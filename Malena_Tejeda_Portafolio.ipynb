{
  "nbformat": 4,
  "nbformat_minor": 0,
  "metadata": {
    "colab": {
      "name": "Malena_Tejeda-Portafolio.ipynb",
      "provenance": [],
      "collapsed_sections": [
        "PBVW_XF-DScR",
        "XEjnLd6emSqK",
        "M4ZQSzDzsEkg",
        "5J5G5WiFEnyf",
        "55VvvU7rbCGp",
        "g2Uw4yn-XkaC",
        "26nS0Lv6iV-T",
        "a43Lg2W-m1zb",
        "qkvBchFFl9dt",
        "bFxQWZ6zPz9W",
        "acbQdfA00kA_",
        "go3ctm-ccuU4",
        "dA6qY0pbg2Gs",
        "MiiH58-0JPbM",
        "ehunNQnAtdMR",
        "wtdzR2-EBFH-",
        "UkCsQYQGvUmG",
        "Owo0YQtjMrZt",
        "K4ZDXF-tu_fC",
        "4Kgit8xUCc6W",
        "V6O9X9IxPxry",
        "DxWz-JT5EV1f",
        "GyjJ0sssu8vE",
        "xGr6s3l2ulJP",
        "a1lDNgifVLAn",
        "Vkr50H2CFuM2",
        "Xy2V-PgUzRBP",
        "uEkVTAdl23Uy",
        "Y7LQ3rOcTMwL"
      ],
      "include_colab_link": true
    },
    "kernelspec": {
      "name": "python3",
      "display_name": "Python 3"
    }
  },
  "cells": [
    {
      "cell_type": "markdown",
      "metadata": {
        "id": "view-in-github",
        "colab_type": "text"
      },
      "source": [
        "<a href=\"https://colab.research.google.com/github/malena-ray/fisica-computacional/blob/main/Malena_Tejeda_Portafolio.ipynb\" target=\"_parent\"><img src=\"https://colab.research.google.com/assets/colab-badge.svg\" alt=\"Open In Colab\"/></a>"
      ]
    },
    {
      "cell_type": "markdown",
      "metadata": {
        "id": "DcTlyjggoXdU"
      },
      "source": [
        "Pruebita"
      ]
    },
    {
      "cell_type": "markdown",
      "metadata": {
        "id": "PBVW_XF-DScR"
      },
      "source": [
        "# Prueba de seccion"
      ]
    },
    {
      "cell_type": "code",
      "metadata": {
        "id": "F6_w-MahoatU",
        "colab": {
          "base_uri": "https://localhost:8080/",
          "height": 35
        },
        "outputId": "432353bd-4475-4354-9ba9-9fc524a175c9"
      },
      "source": [
        "print(\"Hola Mundo\")"
      ],
      "execution_count": null,
      "outputs": [
        {
          "output_type": "stream",
          "text": [
            "Hola Mundo\n"
          ],
          "name": "stdout"
        }
      ]
    },
    {
      "cell_type": "markdown",
      "metadata": {
        "id": "XEjnLd6emSqK"
      },
      "source": [
        "# Ejemplos de Python Primer"
      ]
    },
    {
      "cell_type": "markdown",
      "metadata": {
        "id": "Qe2KAn6loUmY"
      },
      "source": [
        ""
      ]
    },
    {
      "cell_type": "code",
      "metadata": {
        "id": "EuXwom4cRLs8",
        "colab": {
          "base_uri": "https://localhost:8080/",
          "height": 136
        },
        "outputId": "f98560b6-bf0b-420f-e204-eecfea4854a6"
      },
      "source": [
        "print \"Hello World\""
      ],
      "execution_count": null,
      "outputs": [
        {
          "output_type": "error",
          "ename": "SyntaxError",
          "evalue": "ignored",
          "traceback": [
            "\u001b[0;36m  File \u001b[0;32m\"<ipython-input-2-2e860ebf713e>\"\u001b[0;36m, line \u001b[0;32m1\u001b[0m\n\u001b[0;31m    print \"Hello World\"\u001b[0m\n\u001b[0m                      ^\u001b[0m\n\u001b[0;31mSyntaxError\u001b[0m\u001b[0;31m:\u001b[0m Missing parentheses in call to 'print'. Did you mean print(\"Hello World\")?\n"
          ]
        }
      ]
    },
    {
      "cell_type": "code",
      "metadata": {
        "id": "-bWkSMhomggj",
        "colab": {
          "base_uri": "https://localhost:8080/",
          "height": 35
        },
        "outputId": "a4129508-0fcf-40be-90e1-ee73305961d5"
      },
      "source": [
        "print (\"Hello World\")"
      ],
      "execution_count": null,
      "outputs": [
        {
          "output_type": "stream",
          "text": [
            "Hello World\n"
          ],
          "name": "stdout"
        }
      ]
    },
    {
      "cell_type": "code",
      "metadata": {
        "id": "zXFuFW-bmw6g",
        "colab": {
          "base_uri": "https://localhost:8080/",
          "height": 35
        },
        "outputId": "e573e075-23a3-4a87-9b24-3e705a12a951"
      },
      "source": [
        "print (0 + 5*0.6 - 1/2*9.81*0.6**2)"
      ],
      "execution_count": null,
      "outputs": [
        {
          "output_type": "stream",
          "text": [
            "1.2342\n"
          ],
          "name": "stdout"
        }
      ]
    },
    {
      "cell_type": "code",
      "metadata": {
        "id": "77Ie25hEph53",
        "colab": {
          "base_uri": "https://localhost:8080/",
          "height": 35
        },
        "outputId": "7180b96d-331d-453f-f28f-00681bf8a024"
      },
      "source": [
        "v0 = 5\n",
        "g = 9.81\n",
        "t = 0.6\n",
        "y = v0*t - 0.5*g*t**2\n",
        "print (y)"
      ],
      "execution_count": null,
      "outputs": [
        {
          "output_type": "stream",
          "text": [
            "1.2342\n"
          ],
          "name": "stdout"
        }
      ]
    },
    {
      "cell_type": "code",
      "metadata": {
        "id": "7vpeRZOxvlNS",
        "colab": {
          "base_uri": "https://localhost:8080/",
          "height": 35
        },
        "outputId": "06e5be25-7b9c-467b-c175-1bd442b7f572"
      },
      "source": [
        "# Programa para calcular la altura de una pelota en movimiento vertical\n",
        "v0 = 5 #velocidad inicial\n",
        "g = 9.81 #aceleracion de la gravedad\n",
        "t = 0.6 #tiempo \n",
        "y = v0*t - 0.5*g*t**2 #expresion de la cinematica\n",
        "print (y)"
      ],
      "execution_count": null,
      "outputs": [
        {
          "output_type": "stream",
          "text": [
            "1.2342\n"
          ],
          "name": "stdout"
        }
      ]
    },
    {
      "cell_type": "code",
      "metadata": {
        "id": "Sv64wHtyZnV8",
        "colab": {
          "base_uri": "https://localhost:8080/",
          "height": 72
        },
        "outputId": "25eb04d9-592b-4209-e17f-58681e78692e"
      },
      "source": [
        "# Programa para calcular la altura de una pelota en movimiento vertical\n",
        "v0 = 5 #velocidad inicial\n",
        "g = 9.81 #aceleracion de la gravedad\n",
        "t = 0.6 #tiempo \n",
        "y = v0*t - 0.5*g*t**2 #expresion de la cinematica\n",
        "# una manera de imprimir el resultado es\n",
        "print('En t=%g s, la altura de la pelota es %.2f m.' % (t, y))\n",
        "# otra manera de reportar el resultado es\n",
        "print(\"En t={0} s, la altura de la pelota es {1} m.\" .format(t, y))\n",
        "#una ultima\n",
        "print(f'En t={t} s, la altura de la pelota es {y} m.')"
      ],
      "execution_count": null,
      "outputs": [
        {
          "output_type": "stream",
          "text": [
            "En t=0.6 s, la altura de la pelota es 1.23 m.\n",
            "En t=0.6 s, la altura de la pelota es 1.2342 m.\n",
            "En t=0.6 s, la altura de la pelota es 1.2342 m.\n"
          ],
          "name": "stdout"
        }
      ]
    },
    {
      "cell_type": "code",
      "metadata": {
        "id": "JAanBTnObBvd",
        "colab": {
          "base_uri": "https://localhost:8080/",
          "height": 35
        },
        "outputId": "08d5663c-5160-447f-ed34-ec6b59ac270d"
      },
      "source": [
        "import math\n",
        "print('The value of pi is approximately %5.3f.' % math.pi)"
      ],
      "execution_count": null,
      "outputs": [
        {
          "output_type": "stream",
          "text": [
            "The value of pi is approximately 3.142.\n"
          ],
          "name": "stdout"
        }
      ]
    },
    {
      "cell_type": "code",
      "metadata": {
        "id": "2vbJc3G8hOoF",
        "colab": {
          "base_uri": "https://localhost:8080/",
          "height": 35
        },
        "outputId": "2c5de3b4-8059-446c-d653-bf023ac34b49"
      },
      "source": [
        "C = 21\n",
        "F = (9/5)*C + 32\n",
        "print (F)"
      ],
      "execution_count": null,
      "outputs": [
        {
          "output_type": "stream",
          "text": [
            "69.80000000000001\n"
          ],
          "name": "stdout"
        }
      ]
    },
    {
      "cell_type": "code",
      "metadata": {
        "id": "F6suUBc7rH8b",
        "colab": {
          "base_uri": "https://localhost:8080/",
          "height": 35
        },
        "outputId": "23ed7e89-5608-47ae-e132-bc058492a24d"
      },
      "source": [
        "v0 = 5\n",
        "g = 9.81\n",
        "yc = 0.2\n",
        "import math\n",
        "t1 = (v0 - math.sqrt(v0**2 - 2*g*yc))/g\n",
        "t2 = (v0 + math.sqrt(v0**2 - 2*g*yc))/g\n",
        "print ('En t=%g s y %g s, la altura de la pelota es %g m.' % (t1,t2,yc))"
      ],
      "execution_count": null,
      "outputs": [
        {
          "output_type": "stream",
          "text": [
            "En t=0.0417064 s y 0.977662 s, la altura de la pelota es 0.2 m.\n"
          ],
          "name": "stdout"
        }
      ]
    },
    {
      "cell_type": "code",
      "metadata": {
        "id": "pwICnGVEyZ0C",
        "colab": {
          "base_uri": "https://localhost:8080/",
          "height": 35
        },
        "outputId": "989985b1-ca7c-4723-925e-22ef688020cf"
      },
      "source": [
        "v0 = 5\n",
        "g = 9.81\n",
        "yc = 0.2\n",
        "from math import sqrt\n",
        "t1 = (v0 - sqrt(v0**2 - 2*g*yc))/g\n",
        "t2 = (v0 + sqrt(v0**2 - 2*g*yc))/g\n",
        "print ('En t=%g s y %g s, la altura de la pelota es %g m.' % (t1,t2,yc))"
      ],
      "execution_count": null,
      "outputs": [
        {
          "output_type": "stream",
          "text": [
            "En t=0.0417064 s y 0.977662 s, la altura de la pelota es 0.2 m.\n"
          ],
          "name": "stdout"
        }
      ]
    },
    {
      "cell_type": "code",
      "metadata": {
        "id": "5pJiHLTByibm",
        "colab": {
          "base_uri": "https://localhost:8080/",
          "height": 35
        },
        "outputId": "d461059b-f26c-40cb-b237-8f16d07775e6"
      },
      "source": [
        "v0 = 5\n",
        "g = 9.81\n",
        "yc = 0.2\n",
        "from math import *\n",
        "t1 = (v0 - sqrt(v0**2 - 2*g*yc))/g\n",
        "t2 = (v0 + sqrt(v0**2 - 2*g*yc))/g\n",
        "print ('En t=%g s y %g s, la altura de la pelota es %g m.' % (t1,t2,yc))"
      ],
      "execution_count": null,
      "outputs": [
        {
          "output_type": "stream",
          "text": [
            "En t=0.0417064 s y 0.977662 s, la altura de la pelota es 0.2 m.\n"
          ],
          "name": "stdout"
        }
      ]
    },
    {
      "cell_type": "code",
      "metadata": {
        "id": "JrtFKv_c3bry",
        "colab": {
          "base_uri": "https://localhost:8080/",
          "height": 35
        },
        "outputId": "06845c2c-43d3-4835-dc8d-437eb4544478"
      },
      "source": [
        "from math import sinh, exp, e, pi\n",
        "x = 2*pi\n",
        "r1 = sinh(x)\n",
        "r2 = 0.5*(exp(x) - exp(-x))\n",
        "r3 = 0.5*(e**x - e**(-x))\n",
        "print (r1, r2, r3)"
      ],
      "execution_count": null,
      "outputs": [
        {
          "output_type": "stream",
          "text": [
            "267.74489404101644 267.74489404101644 267.7448940410163\n"
          ],
          "name": "stdout"
        }
      ]
    },
    {
      "cell_type": "code",
      "metadata": {
        "id": "2Rwh8au-436U",
        "colab": {
          "base_uri": "https://localhost:8080/"
        },
        "outputId": "1cb3f467-921a-4b77-978d-d6db2307d8d2"
      },
      "source": [
        "from math import sinh, exp, e, pi\n",
        "x = 2*pi\n",
        "r1 = sinh(x)\n",
        "r2 = 0.5*(exp(x) - exp(-x))\n",
        "r3 = 0.5*(e**x - e**(-x))\n",
        "print ('%.16f %.16f %.16f' % (r1,r2,r3))"
      ],
      "execution_count": null,
      "outputs": [
        {
          "output_type": "stream",
          "text": [
            "267.7448940410164369 267.7448940410164369 267.7448940410163232\n"
          ],
          "name": "stdout"
        }
      ]
    },
    {
      "cell_type": "code",
      "metadata": {
        "id": "XbgoVWAq52FR",
        "colab": {
          "base_uri": "https://localhost:8080/",
          "height": 35
        },
        "outputId": "b5ca336d-7a4c-471d-a18b-37a2ba2c0b00"
      },
      "source": [
        "print ('%.16f %.16f' % (1/49.0*49, 1/51.0*51))"
      ],
      "execution_count": null,
      "outputs": [
        {
          "output_type": "stream",
          "text": [
            "0.9999999999999999 1.0000000000000000\n"
          ],
          "name": "stdout"
        }
      ]
    },
    {
      "cell_type": "markdown",
      "metadata": {
        "id": "M4ZQSzDzsEkg"
      },
      "source": [
        "# Numeros Complejos"
      ]
    },
    {
      "cell_type": "code",
      "metadata": {
        "id": "kVu9UaP8sIUQ",
        "colab": {
          "base_uri": "https://localhost:8080/",
          "height": 35
        },
        "outputId": "708c99eb-e07f-4ec7-c190-cca0a6147f50"
      },
      "source": [
        "u = 5.3 + 2.1j\n",
        "v = 3\n",
        "w = u + v\n",
        "w"
      ],
      "execution_count": null,
      "outputs": [
        {
          "output_type": "execute_result",
          "data": {
            "text/plain": [
              "(8.3+2.1j)"
            ]
          },
          "metadata": {
            "tags": []
          },
          "execution_count": 9
        }
      ]
    },
    {
      "cell_type": "code",
      "metadata": {
        "id": "x0ywJJn3sPMr",
        "colab": {
          "base_uri": "https://localhost:8080/",
          "height": 35
        },
        "outputId": "fe900011-976a-4451-a194-2ace6e893e4b"
      },
      "source": [
        "a = -1\n",
        "b = 0.8\n",
        "s = a + b*1j\n",
        "s"
      ],
      "execution_count": null,
      "outputs": [
        {
          "output_type": "execute_result",
          "data": {
            "text/plain": [
              "(-1+0.8j)"
            ]
          },
          "metadata": {
            "tags": []
          },
          "execution_count": 10
        }
      ]
    },
    {
      "cell_type": "code",
      "metadata": {
        "id": "uRW1druRsVVb",
        "colab": {
          "base_uri": "https://localhost:8080/",
          "height": 35
        },
        "outputId": "49d757a8-331a-4290-f122-c5c71ac53357"
      },
      "source": [
        "a = -1\n",
        "b = 0.8\n",
        "s = complex(a, b)\n",
        "s"
      ],
      "execution_count": null,
      "outputs": [
        {
          "output_type": "execute_result",
          "data": {
            "text/plain": [
              "(-1+0.8j)"
            ]
          },
          "metadata": {
            "tags": []
          },
          "execution_count": 11
        }
      ]
    },
    {
      "cell_type": "code",
      "metadata": {
        "id": "QGUztbQlsZfb",
        "colab": {
          "base_uri": "https://localhost:8080/",
          "height": 35
        },
        "outputId": "2258202b-0b1d-430f-a53c-2ec2a5ac29a7"
      },
      "source": [
        "u = 5.3 + 2.1j\n",
        "v = 3\n",
        "w = u + v\n",
        "a = -1\n",
        "b = 0.8\n",
        "s = a + b*1j\n",
        "s*w"
      ],
      "execution_count": null,
      "outputs": [
        {
          "output_type": "execute_result",
          "data": {
            "text/plain": [
              "(-9.98+4.540000000000001j)"
            ]
          },
          "metadata": {
            "tags": []
          },
          "execution_count": 12
        }
      ]
    },
    {
      "cell_type": "code",
      "metadata": {
        "id": "R6XppWV2spaG",
        "colab": {
          "base_uri": "https://localhost:8080/",
          "height": 35
        },
        "outputId": "a57c1c27-2e81-4fdc-a8ed-dbce39264594"
      },
      "source": [
        "u = 5.3 + 2.1j\n",
        "v = 3\n",
        "w = u + v\n",
        "a = -1\n",
        "b = 0.8\n",
        "s = a + b*1j\n",
        "s/w"
      ],
      "execution_count": null,
      "outputs": [
        {
          "output_type": "execute_result",
          "data": {
            "text/plain": [
              "(-0.09031377899045019+0.11923601637107775j)"
            ]
          },
          "metadata": {
            "tags": []
          },
          "execution_count": 13
        }
      ]
    },
    {
      "cell_type": "code",
      "metadata": {
        "id": "SofJIDRJvknZ",
        "colab": {
          "base_uri": "https://localhost:8080/",
          "height": 35
        },
        "outputId": "652521f2-1e4e-42d4-ef9e-40420d058650"
      },
      "source": [
        "a = 4\n",
        "b = -2.3\n",
        "w = a + b*1j\n",
        "w.real"
      ],
      "execution_count": null,
      "outputs": [
        {
          "output_type": "execute_result",
          "data": {
            "text/plain": [
              "4.0"
            ]
          },
          "metadata": {
            "tags": []
          },
          "execution_count": 15
        }
      ]
    },
    {
      "cell_type": "code",
      "metadata": {
        "id": "3etHPjUWvtau",
        "colab": {
          "base_uri": "https://localhost:8080/",
          "height": 35
        },
        "outputId": "42b4e05f-bf81-4540-c17f-54ee6ac1265b"
      },
      "source": [
        "a = 4\n",
        "b = -2.3\n",
        "w = a + b*1j\n",
        "w.imag"
      ],
      "execution_count": null,
      "outputs": [
        {
          "output_type": "execute_result",
          "data": {
            "text/plain": [
              "-2.3"
            ]
          },
          "metadata": {
            "tags": []
          },
          "execution_count": 16
        }
      ]
    },
    {
      "cell_type": "code",
      "metadata": {
        "id": "DHF266iUvvus",
        "colab": {
          "base_uri": "https://localhost:8080/",
          "height": 35
        },
        "outputId": "07c214f8-0fed-44de-f7b9-3b3e8c7e2923"
      },
      "source": [
        "a = 4\n",
        "b = -2.3\n",
        "w = a + b*1j\n",
        "w.conjugate()"
      ],
      "execution_count": null,
      "outputs": [
        {
          "output_type": "execute_result",
          "data": {
            "text/plain": [
              "(4+2.3j)"
            ]
          },
          "metadata": {
            "tags": []
          },
          "execution_count": 18
        }
      ]
    },
    {
      "cell_type": "code",
      "metadata": {
        "id": "LwZpa2Ub9uty",
        "colab": {
          "base_uri": "https://localhost:8080/",
          "height": 35
        },
        "outputId": "37c5448d-52ca-4576-9efc-7cff89453220"
      },
      "source": [
        "from cmath import sin, sinh\n",
        "r1 = sin(8j)\n",
        "r1"
      ],
      "execution_count": null,
      "outputs": [
        {
          "output_type": "execute_result",
          "data": {
            "text/plain": [
              "1490.4788257895502j"
            ]
          },
          "metadata": {
            "tags": []
          },
          "execution_count": 19
        }
      ]
    },
    {
      "cell_type": "code",
      "metadata": {
        "id": "GbSjAarJ9z5L",
        "colab": {
          "base_uri": "https://localhost:8080/",
          "height": 35
        },
        "outputId": "d273bbe0-9576-49d5-8159-ee34ebf43d50"
      },
      "source": [
        "from cmath import sin, sinh\n",
        "r2 = 1j*sinh(8)\n",
        "r2"
      ],
      "execution_count": null,
      "outputs": [
        {
          "output_type": "execute_result",
          "data": {
            "text/plain": [
              "1490.4788257895502j"
            ]
          },
          "metadata": {
            "tags": []
          },
          "execution_count": 20
        }
      ]
    },
    {
      "cell_type": "code",
      "metadata": {
        "id": "of4CZBhiAy2c",
        "colab": {
          "base_uri": "https://localhost:8080/",
          "height": 35
        },
        "outputId": "494cfbaa-5eee-4ba2-d402-794aca60e985"
      },
      "source": [
        "from numpy.lib.scimath import *\n",
        "sqrt(4)"
      ],
      "execution_count": null,
      "outputs": [
        {
          "output_type": "execute_result",
          "data": {
            "text/plain": [
              "2.0"
            ]
          },
          "metadata": {
            "tags": []
          },
          "execution_count": 21
        }
      ]
    },
    {
      "cell_type": "code",
      "metadata": {
        "id": "YdDcdetqA5MT",
        "colab": {
          "base_uri": "https://localhost:8080/",
          "height": 35
        },
        "outputId": "be0e06a8-b449-4550-8de3-b6ab0f374970"
      },
      "source": [
        "from numpy.lib.scimath import *\n",
        "sqrt(-4)"
      ],
      "execution_count": null,
      "outputs": [
        {
          "output_type": "execute_result",
          "data": {
            "text/plain": [
              "2j"
            ]
          },
          "metadata": {
            "tags": []
          },
          "execution_count": 22
        }
      ]
    },
    {
      "cell_type": "markdown",
      "metadata": {
        "id": "5J5G5WiFEnyf"
      },
      "source": [
        "# Derivadas e Integrales simbolicas"
      ]
    },
    {
      "cell_type": "code",
      "metadata": {
        "id": "8Hmeyn_xErdN",
        "colab": {
          "base_uri": "https://localhost:8080/",
          "height": 90
        },
        "outputId": "2ee555ad-e036-495a-b4db-1c5550538b97"
      },
      "source": [
        "from sympy import (\n",
        "symbols, # define simbolos para matematicas simbolicas\n",
        "diff,    # diferenciacion simbolica de expresiones\n",
        "integrate, # integracion simbolica de expresiones\n",
        "Rational, # define numeros racionales\n",
        "lambdify, # convierte expresiones simbolicas en funciones de Python\n",
        ")\n",
        "t, v0, g = symbols('t v0 g')\n",
        "y = v0*t - Rational(1,2)*g*t**2\n",
        "print ('Derivada de la ecuacion', diff(y,t))\n",
        "print ('Segunda derivada:', diff(y, t, t))\n",
        "deriv=diff(y,t)\n",
        "print ('Regresamos a la original', integrate(deriv,t))\n",
        "v = lambdify([t, v0, g], # argumentos en v\n",
        "deriv)  # expresion simbolica que estamos convirtiendo en numerica \\\\\n",
        "print ('evaluacion', v(2, 5, 9.81))"
      ],
      "execution_count": null,
      "outputs": [
        {
          "output_type": "stream",
          "text": [
            "Derivada de la ecuacion -g*t + v0\n",
            "Segunda derivada: -g\n",
            "Regresamos a la original -g*t**2/2 + t*v0\n",
            "evaluacion -14.620000000000001\n"
          ],
          "name": "stdout"
        }
      ]
    },
    {
      "cell_type": "code",
      "metadata": {
        "id": "GzT7-fD4JKL0",
        "colab": {
          "base_uri": "https://localhost:8080/"
        },
        "outputId": "ffba4bc0-60a6-49f5-e56e-6dd528469574"
      },
      "source": [
        "from sympy import (\n",
        "symbols, # define simbolos para matematicas simbolicas\n",
        "Rational, # define numeros racionales \n",
        "solve # resuelve ecuaciones\n",
        ")\n",
        "t, v0, g = symbols('t v0 g') \n",
        "y = v0*t - Rational(1,2)*g*t**2\n",
        "roots = solve(y, t) \n",
        "print ('Las raices son', roots) \n",
        "print ('La primera raiz es', roots[0])\n",
        "print ('La primera raiz es', roots[1])\n",
        "print ('Check de primera raiz',y.subs(t,roots[0]))\n",
        "print ('Check de primera raiz',y.subs(t,roots[1]))"
      ],
      "execution_count": null,
      "outputs": [
        {
          "output_type": "stream",
          "text": [
            "Las raices son [0, 2*v0/g]\n",
            "La primera raiz es 0\n",
            "La primera raiz es 2*v0/g\n",
            "Check de primera raiz 0\n",
            "Check de primera raiz 0\n"
          ],
          "name": "stdout"
        }
      ]
    },
    {
      "cell_type": "markdown",
      "metadata": {
        "id": "55VvvU7rbCGp"
      },
      "source": [
        "# Serie de Taylor"
      ]
    },
    {
      "cell_type": "code",
      "metadata": {
        "id": "DAfq4FGRbA_Y",
        "colab": {
          "base_uri": "https://localhost:8080/",
          "height": 35
        },
        "outputId": "e2500d53-1c1c-4955-c0ce-f38a38492e69"
      },
      "source": [
        "from sympy import symbols, exp, sin, cos\n",
        "t = symbols('t')\n",
        "f = exp(t)\n",
        "f.series(t, 0, 3)"
      ],
      "execution_count": null,
      "outputs": [
        {
          "output_type": "execute_result",
          "data": {
            "text/plain": [
              "1 + t + t**2/2 + O(t**3)"
            ]
          },
          "metadata": {
            "tags": []
          },
          "execution_count": 3
        }
      ]
    },
    {
      "cell_type": "code",
      "metadata": {
        "id": "LA8FG_82bdaE",
        "colab": {
          "base_uri": "https://localhost:8080/",
          "height": 35
        },
        "outputId": "b78c5232-da50-468e-8140-46117b76b050"
      },
      "source": [
        "from sympy import symbols, exp, sin, cos\n",
        "t = symbols('t')\n",
        "f = exp(sin(t))\n",
        "f.series(t, 0, 8)"
      ],
      "execution_count": null,
      "outputs": [
        {
          "output_type": "execute_result",
          "data": {
            "text/plain": [
              "1 + t + t**2/2 - t**4/8 - t**5/15 - t**6/240 + t**7/90 + O(t**8)"
            ]
          },
          "metadata": {
            "tags": []
          },
          "execution_count": 5
        }
      ]
    },
    {
      "cell_type": "code",
      "metadata": {
        "id": "pctsJzIxeFq4",
        "colab": {
          "base_uri": "https://localhost:8080/",
          "height": 35
        },
        "outputId": "3bec6501-2df6-424a-fa93-75f61bcbc6a2"
      },
      "source": [
        "from sympy import simplify, expand\n",
        "x, y = symbols('x y')\n",
        "f = -sin(x)*sin(y) + cos(x)*cos(y)\n",
        "simplify(f)"
      ],
      "execution_count": null,
      "outputs": [
        {
          "output_type": "execute_result",
          "data": {
            "text/plain": [
              "cos(x + y)"
            ]
          },
          "metadata": {
            "tags": []
          },
          "execution_count": 9
        }
      ]
    },
    {
      "cell_type": "code",
      "metadata": {
        "id": "SOksx6BveNFE",
        "colab": {
          "base_uri": "https://localhost:8080/",
          "height": 35
        },
        "outputId": "d3571876-5e8c-4cb0-d394-7c4818d437ce"
      },
      "source": [
        "from sympy import simplify, expand\n",
        "x, y = symbols('x y')\n",
        "expand(sin(x+y), trig=True) # con un hint"
      ],
      "execution_count": null,
      "outputs": [
        {
          "output_type": "execute_result",
          "data": {
            "text/plain": [
              "sin(x)*cos(y) + sin(y)*cos(x)"
            ]
          },
          "metadata": {
            "tags": []
          },
          "execution_count": 10
        }
      ]
    },
    {
      "cell_type": "code",
      "metadata": {
        "id": "6hNdGX20csHY",
        "colab": {
          "base_uri": "https://localhost:8080/",
          "height": 35
        },
        "outputId": "939ebb8a-8d6a-4be0-c975-4aa3da5a3fac"
      },
      "source": [
        "from sympy import latex, symbols, exp, sin, cos\n",
        "t = symbols('t')\n",
        "print (latex(f.series(t, 0, 7)))"
      ],
      "execution_count": null,
      "outputs": [
        {
          "output_type": "stream",
          "text": [
            "1 + t + \\frac{t^{2}}{2} - \\frac{t^{4}}{8} - \\frac{t^{5}}{15} - \\frac{t^{6}}{240} + \\mathcal{O}\\left(t^{7}\\right)\n"
          ],
          "name": "stdout"
        }
      ]
    },
    {
      "cell_type": "code",
      "metadata": {
        "id": "vC_XFQ4OM2nm",
        "colab": {
          "base_uri": "https://localhost:8080/",
          "height": 90
        },
        "outputId": "d2672881-ec07-4335-8137-e569c7127c5a"
      },
      "source": [
        "a = 'Este es un pedazo de texto \\n escrito en dos lineas.'\n",
        "b = \"Los textos pueden escribirse con una comilla o doble comilla\" \n",
        "c = \"\"\"Los textos con tres dobles comillas \n",
        "pueden ocupar \n",
        "varias lineas.\n",
        "\"\"\"\n",
        "print (c)"
      ],
      "execution_count": null,
      "outputs": [
        {
          "output_type": "stream",
          "text": [
            "Los textos con tres dobles comillas \n",
            "pueden ocupar \n",
            "varias lineas.\n",
            "\n"
          ],
          "name": "stdout"
        }
      ]
    },
    {
      "cell_type": "markdown",
      "metadata": {
        "id": "g2Uw4yn-XkaC"
      },
      "source": [
        "# Ejemplo: Trayectoria de pelota lanzada"
      ]
    },
    {
      "cell_type": "code",
      "metadata": {
        "id": "HVVT1IxzXq9q",
        "colab": {
          "base_uri": "https://localhost:8080/",
          "height": 108
        },
        "outputId": "5b3f9d4a-fcd8-4da4-fa94-4f7418abba44"
      },
      "source": [
        "g = 9.81 # m/s**2\n",
        "v0 = 15 # km/h\n",
        "theta = 60 # grados\n",
        "x = 0.5 # metros\n",
        "y0 = 1 # metros\n",
        "print (\"\"\" \\\n",
        "v0= %.1f km/h\n",
        "theta= %d grados\n",
        "y0= %.1f m\n",
        "x= %.1f m \\\n",
        "\"\"\" % (v0, theta, y0, x)\n",
        ")\n",
        "\n",
        "from math import pi, tan, cos\n",
        "# Convierte v0 to m/s y theta a radianes\n",
        "v0 = v0/3.6\n",
        "theta = theta*pi/180\n",
        "\n",
        "y = x*tan(theta) - 1/(2*v0**2)*g*x**2/((cos(theta))**2) + y0\n",
        "print ('La posicion de la pelota es y = %.1f m' % y )"
      ],
      "execution_count": null,
      "outputs": [
        {
          "output_type": "stream",
          "text": [
            " v0= 15.0 km/h\n",
            "theta= 60 grados\n",
            "y0= 1.0 m\n",
            "x= 0.5 m \n",
            "La posicion de la pelota es y = 1.6 m\n"
          ],
          "name": "stdout"
        }
      ]
    },
    {
      "cell_type": "markdown",
      "metadata": {
        "id": "26nS0Lv6iV-T"
      },
      "source": [
        "# Ejemplos donde se suman numeros\n",
        "\n"
      ]
    },
    {
      "cell_type": "markdown",
      "metadata": {
        "id": "a43Lg2W-m1zb"
      },
      "source": [
        "# Ejemplos donde se usan arreglos"
      ]
    },
    {
      "cell_type": "markdown",
      "metadata": {
        "id": "qkvBchFFl9dt"
      },
      "source": [
        "# Metodo de Iteracion Simple para encontrar raices"
      ]
    },
    {
      "cell_type": "code",
      "metadata": {
        "id": "ca-WX-VimCIJ"
      },
      "source": [
        "x = 0       # valor inicial supuesto                   \n",
        "for iteration in range(1,201):  # 100 iteraciones supuestas\n",
        "  print (iteration,x)          # imprime el valor de x en cada iteracion\n",
        "  xnew = (2*x**2 + 3)/5        # calcula el lado derecho de la ecuacion\n",
        "  if x == xnew:                # compara con el viejo valor\n",
        "    break                      # si ya son iguales, sal\n",
        "  x = xnew                     # si no, asigna nuevo valor como valor inicial\n",
        "print (iteration, xnew)      # e imprime el nuevo valor\n",
        "                              \n",
        "                              "
      ],
      "execution_count": null,
      "outputs": []
    },
    {
      "cell_type": "code",
      "metadata": {
        "id": "L8WouRy7uaex"
      },
      "source": [
        "x = 0       # valor inicial supuesto                   \n",
        "for iteration in range(1,101):  # 100 iteraciones supuestas\n",
        "   print (iteration,x)          # imprime el valor de x en cada iteracion\n",
        "   xnew = (2*x**2 + 3)/5        # calcula el lado derecho de la ecuacion\n",
        "   if abs(x - xnew) < 0.000001: # en lugar de if x == xnew\n",
        "     break                      # si ya son iguales, sal\n",
        "   x = xnew                     # si no, asigna nuevo valor como valor inicial\n",
        "   print (iteration, xnew)      # e imprime el nuevo valor"
      ],
      "execution_count": null,
      "outputs": []
    },
    {
      "cell_type": "code",
      "metadata": {
        "id": "fYzp4iUnwHJ0",
        "colab": {
          "base_uri": "https://localhost:8080/",
          "height": 265
        },
        "outputId": "d4a55242-6a16-4e02-edb7-9a7f7b089d60"
      },
      "source": [
        "def met_iter_simple(a, tol): \n",
        "  x = a       # valor inicial supuesto                   \n",
        "  for paso in range(1,101):  # 100 iteraciones supuestas\n",
        "    xnew = (2*x**2 + 3)/5        # calcula el lado derecho de la ecuacion\n",
        "    if abs(x - xnew) < tol: # en lugar de if x == xnew\n",
        "      break                      # si ya son iguales, sal\n",
        "    x = xnew                     # si no, asigna nuevo valor como valor inicial\n",
        "    yield paso, x, xnew     # guardar el arreglo de 3 columnas\n",
        "\n",
        "import numpy as np\n",
        "np.array(list(met_iter_simple(0, 10e-6))) #crear el arreglo con la salida\n",
        "\n",
        "import matplotlib.pyplot as plt\n",
        "\n",
        "data = np.array(list(met_iter_simple(0, 10e-6)))\n",
        "\n",
        "\n",
        "plt.plot(data[:,0], data[:,1],data[:,2])          # graficar \n",
        "#plt.show()\n",
        "\n",
        "plt.savefig('metitersimple.png')\n",
        "\n"
      ],
      "execution_count": null,
      "outputs": [
        {
          "output_type": "display_data",
          "data": {
            "image/png": "[encoded data removed]",
            "text/plain": [
              "<Figure size 432x288 with 1 Axes>"
            ]
          },
          "metadata": {
            "tags": [],
            "needs_background": "light"
          }
        }
      ]
    },
    {
      "cell_type": "markdown",
      "metadata": {
        "id": "bFxQWZ6zPz9W"
      },
      "source": [
        "# Otro ejemplo de buscador de raices iterativo"
      ]
    },
    {
      "cell_type": "code",
      "metadata": {
        "id": "kBb0A7-4OoP6",
        "colab": {
          "base_uri": "https://localhost:8080/",
          "height": 69
        },
        "outputId": "5c5c5706-f5cc-42e5-fccb-4322ad4240b2"
      },
      "source": [
        "## module rootsearch\n",
        "## x1,x2 = rootsearch(f,a,b,dx).\n",
        "## Searches the interval (a,b) in increments dx for\n",
        "## the bounds (x1,x2) of the smallest root of f(x).\n",
        "## Returns x1 = x2 = None if no roots were detected.\n",
        "##\n",
        "\n",
        "from numpy import sign\n",
        "\n",
        "def rootsearch(f,a,b,dx):\n",
        "  x1 = a; f1 = f(a)\n",
        "  x2 = a + dx; f2 = f(x2)\n",
        "  while sign(f1) == sign(f2):\n",
        "    if x1 >= b: return None,None\n",
        "    x1 = x2; f1 = f2\n",
        "    x2 = x1 + dx; f2 = f(x2)\n",
        "  else:\n",
        "    return x1,x2\n",
        "\n",
        "def f(x): return x**3 - 10.0*x**2 + 5.0\n",
        "\n",
        "x1 = 0.0; x2 = 1.0\n",
        "for i in range(4):\n",
        "  dx = (x2 - x1)/10.0\n",
        "  x1,x2 = rootsearch(f,x1,x2,dx)\n",
        "x = (x1 + x2)/2.0\n",
        "print('x =', '{:6.4f}'.format(x))\n",
        "input(\"Press return to exit\")"
      ],
      "execution_count": null,
      "outputs": [
        {
          "output_type": "stream",
          "text": [
            "x = 0.7346\n",
            "Press return to exit\n"
          ],
          "name": "stdout"
        },
        {
          "output_type": "execute_result",
          "data": {
            "application/vnd.google.colaboratory.intrinsic+json": {
              "type": "string"
            },
            "text/plain": [
              "''"
            ]
          },
          "metadata": {
            "tags": []
          },
          "execution_count": 3
        }
      ]
    },
    {
      "cell_type": "markdown",
      "metadata": {
        "id": "acbQdfA00kA_"
      },
      "source": [
        "# Metodo Biseccion"
      ]
    },
    {
      "cell_type": "code",
      "metadata": {
        "id": "6xKIZkJ-KN4u",
        "colab": {
          "base_uri": "https://localhost:8080/",
          "height": 299
        },
        "outputId": "f60a371a-f2c9-4139-9d8d-154ded47efec"
      },
      "source": [
        "import matplotlib.pyplot as plt\n",
        "import numpy as np\n",
        "\n",
        "ax = plt.subplot(111)\n",
        "\n",
        "t = np.arange(0.0, 3.0, 0.01)\n",
        "s = 2*t**2-5*t+3  # np.cos(2*np.pi*t)\n",
        "line, = plt.plot(t, s, lw=2)\n",
        "\n",
        "plt.annotate('raiz', xy=(1.5, 0), xytext=(2.5, 0.5),\n",
        "             arrowprops=dict(facecolor='black', shrink=0.05),\n",
        "             )\n",
        "plt.annotate('raiz', xy=(1.0, 0), xytext=(0, 0.5),\n",
        "             arrowprops=dict(facecolor='black', shrink=0.05),\n",
        "             )\n",
        "\n",
        "plt.grid(True)\n",
        "plt.ylim(-0.5, 1)\n",
        "\n",
        "plt.title(\"$y=2x^2-5x+3$\")\n",
        "#plt.plot(s, label='linear')\n",
        "#plt.legend(loc='upper left', frameon=True)\n",
        "plt.ylabel('$y = f(x)$')\n",
        "plt.xlabel('x')\n",
        "\n",
        "#plt.show()\n",
        "\n",
        "plt.savefig('raices.png')"
      ],
      "execution_count": null,
      "outputs": [
        {
          "output_type": "display_data",
          "data": {
            "image/png": "[encoded data removed]",
            "text/plain": [
              "<Figure size 432x288 with 1 Axes>"
            ]
          },
          "metadata": {
            "tags": [],
            "needs_background": "light"
          }
        }
      ]
    },
    {
      "cell_type": "code",
      "metadata": {
        "id": "VJvu_9vSKj4x",
        "colab": {
          "base_uri": "https://localhost:8080/",
          "height": 70
        },
        "outputId": "055bae26-a96d-4821-891c-fd6014ec884a"
      },
      "source": [
        "# Metodo de Biseccion para el Ejemplo de clase\n",
        "x1 = 3.0                 # primer valor del intervalo\n",
        "x2 = 4.0               # segudo valor del intervalo\n",
        "y1 = 2*x1**2-5*x1+3    # calcula y1\n",
        "y2 = 2*x2**2-5*x2+3    # calcula y2\n",
        "if y1*y2 > 0:          # prueba si los signos son iguales\n",
        "    print('No hay raices en el intervalo dado')\n",
        "    exit               # termina el programa  #falta encontrar el buen EXIT!!\n",
        "for i in range(1,101): # asume que 100 bisecciones son suficientes\n",
        "  xh = (x1+x2)/2         # calcula el valor medio\n",
        "  yh = 2*xh**2-5*xh+3    # calcula el valor de y en el valor medio yh\n",
        "  y1 = 2*x1**2-5*x1+3    # calcula y1\n",
        "  if abs(y1) < 1.0e-6:   # condicion de acercamiento a la solucion (tol)\n",
        "    break                  # salir del loop\n",
        "  elif y1*yh < 0:        # si el signo es diferente quedarse en la primera mitad\n",
        "    x2 = xh                # que x2 sea el punto medio\n",
        "  else:                  # si el signo es igual quedarse en la segunda mitad\n",
        "    x1 = xh                # que x1 sea el punto medio\n",
        "print('La raiz es: %.5f' % x1)\n",
        "print('Numero de bisecciones: %d' % i)"
      ],
      "execution_count": null,
      "outputs": [
        {
          "output_type": "stream",
          "text": [
            "No hay raices en el intervalo dado\n",
            "La raiz es: 4.00000\n",
            "Numero de bisecciones: 100\n"
          ],
          "name": "stdout"
        }
      ]
    },
    {
      "cell_type": "code",
      "metadata": {
        "id": "EMbbJu8MgzuC",
        "colab": {
          "base_uri": "https://localhost:8080/",
          "height": 88
        },
        "outputId": "e2b83c6b-884c-4ef7-f202-09f55c6c86a8"
      },
      "source": [
        "# Metodo de Biseccion Mejorado para el Ejemplo de clase\n",
        "\n",
        "def y(x):                    # define la funcion y(x)\n",
        "  y = 2*x**2 - 5*x + 3\n",
        "  return y\n",
        "\n",
        "x1 = float(input('Captura el valor de x1: ')) # peticion de valor x1\n",
        "x2 = float(input('Captura el valor de x2: ')) # peticion de valor x2\n",
        "y1 = y(x1)                                    # evalua la funcion y(x1)\n",
        "y2 = y(x2)                                    # evalua la funcion y(x1)\n",
        "\n",
        "if y1*y2 > 0:                                 # prueba si los signos son iguales\n",
        "  print('No hay raices en el intervalo')\n",
        "  exit\n",
        "\n",
        "for i in range(100):\n",
        "  xh = (x1+x2)/2\n",
        "  yh = y(xh)                                  # evalua la funcion y(xh)\n",
        "  y1 = y(x1)                                  # evalua la funcion y(x1)\n",
        "  if abs(y1) < 1.0e-6:\n",
        "    break\n",
        "  elif y1*yh < 0:\n",
        "    x2 = xh\n",
        "  else:\n",
        "    x1 = xh\n",
        "print('La raiz es: %.5f' % x1)\n",
        "print('Numero de bisecciones: %d' % (i+1))\n"
      ],
      "execution_count": null,
      "outputs": [
        {
          "output_type": "stream",
          "text": [
            "Captura el valor de x1: 0\n",
            "Captura el valor de x2: 1.2\n",
            "La raiz es: 1.00000\n",
            "Numero de bisecciones: 21\n"
          ],
          "name": "stdout"
        }
      ]
    },
    {
      "cell_type": "code",
      "metadata": {
        "id": "lyQnVN3RlzGU",
        "colab": {
          "base_uri": "https://localhost:8080/",
          "height": 141
        },
        "outputId": "0a0559d8-9d2f-4953-8360-ec48ecd94045"
      },
      "source": [
        "#Encontrando raices con diferentes metodos usando Scipy\n",
        "\n",
        "from scipy.optimize import newton, bisect, fsolve, root\n",
        "f  = lambda x: 2*x**2-5*x + 3\n",
        "print(newton(f, 0)) # entradas son funcion y valor prueba\n",
        "print(newton(f, 3))\n",
        "print(bisect(f,0,1.2)) # entradas son funcion e intervalo inicial\n",
        "print(bisect(f,1.2,4))\n",
        "print(fsolve(f,0)) # entradas son funcion y valor prueba\n",
        "print(fsolve(f, 2))\n",
        "print(fsolve(f,[0, 1, 2]))"
      ],
      "execution_count": null,
      "outputs": [
        {
          "output_type": "stream",
          "text": [
            "0.9999999999999999\n",
            "1.5000000000000004\n",
            "0.9999999999996361\n",
            "1.4999999999994542\n",
            "[1.]\n",
            "[1.5]\n",
            "[1.  1.  1.5]\n"
          ],
          "name": "stdout"
        }
      ]
    },
    {
      "cell_type": "code",
      "metadata": {
        "id": "zLpkOIeK0n7_",
        "colab": {
          "base_uri": "https://localhost:8080/",
          "height": 141
        },
        "outputId": "858bbac1-39a4-4afb-b093-da36aae84d17"
      },
      "source": [
        "import math\n",
        "def root(x):\n",
        "    return(math.cos(x)-math.sin(x))\n",
        "\n",
        "def bisection_method(f, a, b, tol):\n",
        "    if f(a)*f(b) > 0:\n",
        "        #end function, no root.\n",
        "        print(\"No root found.\")\n",
        "    else:\n",
        "        iter = 0\n",
        "        while (b - a)/2.0 > tol:\n",
        "            midpoint = (a + b)/2.0\n",
        "            yield iter, abs(f(midpoint)), midpoint\n",
        "            if f(a)*f(midpoint) < 0: # Increasing but below 0 case\n",
        "                b = midpoint\n",
        "            else:\n",
        "                a = midpoint\n",
        "            iter += 1\n",
        "\n",
        "import numpy as np\n",
        "np.array(list(bisection_method(root, 0, 1.57, 10e-3)))\n",
        "\n"
      ],
      "execution_count": null,
      "outputs": [
        {
          "output_type": "execute_result",
          "data": {
            "text/plain": [
              "array([[0.00000000e+00, 5.63088062e-04, 7.85000000e-01],\n",
              "       [1.00000000e+00, 5.40415665e-01, 1.17750000e+00],\n",
              "       [2.00000000e+00, 2.75209010e-01, 9.81250000e-01],\n",
              "       [3.00000000e+00, 1.37986732e-01, 8.83125000e-01],\n",
              "       [4.00000000e+00, 6.87946039e-02, 8.34062500e-01],\n",
              "       [5.00000000e+00, 3.41260256e-02, 8.09531250e-01],\n",
              "       [6.00000000e+00, 1.67827312e-02, 7.97265625e-01]])"
            ]
          },
          "metadata": {
            "tags": []
          },
          "execution_count": 13
        }
      ]
    },
    {
      "cell_type": "markdown",
      "metadata": {
        "id": "go3ctm-ccuU4"
      },
      "source": [
        "# Otro ejemplo de biseccion"
      ]
    },
    {
      "cell_type": "code",
      "metadata": {
        "id": "UD2Hgf-gctin"
      },
      "source": [
        "\n",
        "## module error\n",
        "## err(string).\n",
        "## Prints ’string’ and terminates program.\n",
        "import sys\n",
        "\n",
        "def err(string):\n",
        "  print(string)\n",
        "  input('Press return to exit')\n",
        "  sys.exit()\n",
        "\n",
        "\n",
        "## module bisection\n",
        "## root = bisection(f,x1,x2,switch=0,tol=1.0e-9).\n",
        "## Finds a root of f(x) = 0 by bisection.\n",
        "## The root must be bracketed in (x1,x2).\n",
        "## Setting switch = 1 returns root = None if\n",
        "## f(x) increases upon bisection.\n",
        "##\n",
        "import math\n",
        "from numpy import sign\n",
        "\n",
        "\n",
        "\n",
        "def bisection(f,x1,x2,switch=1,tol=1.0e-9):\n",
        "  f1 = f(x1)\n",
        "  if f1 == 0.0: return x1\n",
        "  f2 = f(x2)\n",
        "  if f2 == 0.0: return x2\n",
        "  if sign(f1) == sign(f2): error.err('Root is not bracketed')\n",
        "  n = int(math.ceil(math.log(abs(x2 - x1)/tol)/math.log(2.0)))\n",
        "  \n",
        "  for i in range(n):\n",
        "    x3 = 0.5*(x1 + x2); f3 = f(x3)\n",
        "    if (switch == 1) and (abs(f3) > abs(f1))\\\n",
        "                     and (abs(f3) > abs(f2)):\n",
        "        return None\n",
        "    if f3 == 0.0: return x3\n",
        "    if sign(f2)!= sign(f3): x1 = x3; f1 = f3\n",
        "    else: x2 = x3; f2 = f3 \n",
        "  return (x1 + x2)/2.0\n",
        "\n",
        "def f(x): return x**3 - 10.0*x**2 + 5.0\n",
        "x = bisection(f, 0.0, 1.0, tol = 1.0e-4)\n",
        "print('x =', '{:6.4f}'.format(x))\n",
        "input(\"Press return to exit\")"
      ],
      "execution_count": null,
      "outputs": []
    },
    {
      "cell_type": "markdown",
      "metadata": {
        "id": "dA6qY0pbg2Gs"
      },
      "source": [
        "# Biseccion y RootFinder combinados"
      ]
    },
    {
      "cell_type": "code",
      "metadata": {
        "id": "PSESzaJKg78V",
        "colab": {
          "base_uri": "https://localhost:8080/",
          "height": 212
        },
        "outputId": "85c118c7-17bb-4be4-8f6c-e00b622307a6"
      },
      "source": [
        "import math\n",
        "from numpy import sign\n",
        "\n",
        "def rootsearch(f,a,b,dx):\n",
        "  x1 = a; f1 = f(a)\n",
        "  x2 = a + dx; f2 = f(x2)\n",
        "  while sign(f1) == sign(f2):\n",
        "    if x1 >= b: return None,None\n",
        "    x1 = x2; f1 = f2\n",
        "    x2 = x1 + dx; f2 = f(x2)\n",
        "  else:\n",
        "    return x1,x2\n",
        "\n",
        "def bisection(f,x1,x2,switch=1,tol=1.0e-9):\n",
        "  f1 = f(x1)\n",
        "  if f1 == 0.0: return x1\n",
        "  f2 = f(x2)\n",
        "  if f2 == 0.0: return x2\n",
        "  if sign(f1) == sign(f2): error.err('Root is not bracketed')\n",
        "  n = int(math.ceil(math.log(abs(x2 - x1)/tol)/math.log(2.0)))\n",
        "  \n",
        "  for i in range(n):\n",
        "    x3 = 0.5*(x1 + x2); f3 = f(x3)\n",
        "    if (switch == 1) and (abs(f3) > abs(f1))\\\n",
        "                     and (abs(f3) > abs(f2)):\n",
        "        return None\n",
        "    if f3 == 0.0: return x3\n",
        "    if sign(f2)!= sign(f3): x1 = x3; f1 = f3\n",
        "    else: x2 = x3; f2 = f3 \n",
        "  return (x1 + x2)/2.0\n",
        "\n",
        "\n",
        "def f(x): return x - math.tan(x)\n",
        "a,b,dx = (0.0, 20.0, 0.01)\n",
        "print(\"The roots are:\")\n",
        "while (True):\n",
        "  x1,x2 = rootsearch(f,a,b,dx)\n",
        "  if x1 != None: \n",
        "    a = x2\n",
        "    root = bisection(f,x1,x2,1)\n",
        "    if root != None: print(root)\n",
        "  else:\n",
        "    print(\"\\nDone\")\n",
        "    break\n",
        "input(\"Press return to exit\")"
      ],
      "execution_count": null,
      "outputs": [
        {
          "output_type": "stream",
          "text": [
            "The roots are:\n",
            "0.0\n",
            "4.493409458100745\n",
            "7.725251837074637\n",
            "10.904121659695917\n",
            "14.06619391292308\n",
            "17.220755272209537\n",
            "\n",
            "Done\n",
            "Press return to exit\n"
          ],
          "name": "stdout"
        },
        {
          "output_type": "execute_result",
          "data": {
            "application/vnd.google.colaboratory.intrinsic+json": {
              "type": "string"
            },
            "text/plain": [
              "''"
            ]
          },
          "metadata": {
            "tags": []
          },
          "execution_count": 14
        }
      ]
    },
    {
      "cell_type": "markdown",
      "metadata": {
        "id": "MiiH58-0JPbM"
      },
      "source": [
        "# Metodo de Ridder"
      ]
    },
    {
      "cell_type": "code",
      "metadata": {
        "id": "RXU0vQfqPXzg",
        "colab": {
          "base_uri": "https://localhost:8080/",
          "height": 295
        },
        "outputId": "e8e1bea2-fbb1-47e0-c62f-17240e9c5dbe"
      },
      "source": [
        "import matplotlib.pyplot as plt\n",
        "import numpy as np\n",
        "\n",
        "ax = plt.subplot(111)\n",
        "\n",
        "t = np.arange(-1.0, 3.0, 0.1)\n",
        "a = (t - 0.3)**2 + 0.01\n",
        "b = (t - 0.8)**2 + 0.04\n",
        "s = 1.0/a - 1.0/b\n",
        "line, = plt.plot(t, s, lw=2)\n",
        "\n",
        "plt.annotate('raiz', xy=(0.6,0.0), xytext=(1.5, 5.0),\n",
        "             arrowprops=dict(facecolor='black', shrink=0.05),\n",
        "             )\n",
        "\n",
        "\n",
        "plt.grid(True)\n",
        "plt.ylim(-20.0, 20.0)\n",
        "\n",
        "plt.title(\"y=1/(((x-0.3)^2+0.01) - 1/((x-0.8)^2+0.04))\")\n",
        "plt.ylabel('y = f(x)')\n",
        "plt.xlabel('x')\n",
        "\n",
        "plt.savefig('raices-ridder.png')"
      ],
      "execution_count": null,
      "outputs": [
        {
          "output_type": "display_data",
          "data": {
            "image/png": "[encoded data removed]",
            "text/plain": [
              "<Figure size 432x288 with 1 Axes>"
            ]
          },
          "metadata": {
            "tags": [],
            "needs_background": "light"
          }
        }
      ]
    },
    {
      "cell_type": "code",
      "metadata": {
        "id": "jejSXQ1uJOH_",
        "colab": {
          "base_uri": "https://localhost:8080/",
          "height": 70
        },
        "outputId": "ade93fba-1fe0-43cf-c320-f311b6e77695"
      },
      "source": [
        "## Encuentra el error en este codigo! es typo del libro!\n",
        "## module ridder\n",
        "## root = ridder(f,a,b,tol=1.0e-9).\n",
        "## Finds a root of f(x) = 0 with Ridder’s method.\n",
        "## The root must be bracketed in (a,b).\n",
        "##\n",
        "\n",
        "\n",
        "\n",
        "## module error\n",
        "## err(string).\n",
        "## Prints ’string’ and terminates program.\n",
        "import sys\n",
        "\n",
        "def err(string):\n",
        "  print(string)\n",
        "  input('Press return to exit')\n",
        "  sys.exit()\n",
        "\n",
        "import math\n",
        "from numpy import sign\n",
        "\n",
        "def ridder(f,a,b,tol=1.0e-9):\n",
        "  fa = f(a)\n",
        "  if fa == 0.0: return a\n",
        "  fb = f(b)\n",
        "  if fb == 0.0: return b\n",
        "  if sign(fa)!= sign(fb): c=a; fc=fa\n",
        "  for i in range(30):\n",
        "# Compute the improved root x from Ridder’s formula\n",
        "      c = 0.5*(a + b); fc = f(c)\n",
        "      s = math.sqrt(fc**2 - fa*fb)\n",
        "      if s == 0.0: return None\n",
        "      dx = (c - a)*fc/s\n",
        "      if (fa - fb) < 0.0: dx = -dx\n",
        "      x = c + dx; fx = f(x)\n",
        "# Test for convergence\n",
        "  if i > 0:\n",
        "     xOld = x\n",
        "     if abs(x - xOld) < tol*max(abs(x),1.0): return x\n",
        "# Re-bracket the root as tightly as possible\n",
        "  if sign(fc) == sign(fx):\n",
        "    if sign(fa)!= sign(fx): b = x; fb = fx\n",
        "    else: a = x; fa = fx\n",
        "  else:\n",
        "    a = c; b = x; fa = fc; fb = fx\n",
        "  return None\n",
        "  print('Too many iterations')\n",
        "\n",
        "# Ejemplos de uso de Metodo de Ridder\n",
        "\n",
        "def g(x): \n",
        "  a = (x - 0.3)**2 + 0.01\n",
        "  b = (x - 0.8)**2 + 0.04\n",
        "  return 1.0/a - 1.0/b\n",
        "\n",
        "\n",
        "x = ridder(g,0.0,1.0)\n",
        "print('La raiz es', '{:6.4f}'.format(x))\n",
        "\n",
        "\n",
        "\n",
        "#def f(x): return x**3 - 10.0*x**2 + 5.0\n",
        "#x = ridder(f, 0.6, 0.8)\n",
        "#print('La raiz es', '{:6.4f}'.format(x))\n",
        "\n",
        "input('Press return to exit')\n",
        "\n",
        "\n"
      ],
      "execution_count": null,
      "outputs": [
        {
          "output_type": "stream",
          "text": [
            "La raiz es 0.8964\n",
            "Press return to exit\n"
          ],
          "name": "stdout"
        },
        {
          "output_type": "execute_result",
          "data": {
            "application/vnd.google.colaboratory.intrinsic+json": {
              "type": "string"
            },
            "text/plain": [
              "''"
            ]
          },
          "metadata": {
            "tags": []
          },
          "execution_count": 12
        }
      ]
    },
    {
      "cell_type": "code",
      "metadata": {
        "id": "kHe4PTU-TkzV",
        "colab": {
          "base_uri": "https://localhost:8080/",
          "height": 35
        },
        "outputId": "a0d6f093-9433-454e-870f-70796a613cf2"
      },
      "source": [
        "def g(x): \n",
        "  a = (x - 0.3)**2 + 0.01\n",
        "  b = (x - 0.8)**2 + 0.04\n",
        "  return 1.0/a - 1.0/b\n",
        "\n",
        "from scipy import optimize\n",
        "root = optimize.ridder(g, 0.0, 0.6)\n",
        "root"
      ],
      "execution_count": null,
      "outputs": [
        {
          "output_type": "execute_result",
          "data": {
            "text/plain": [
              "0.5799999999989998"
            ]
          },
          "metadata": {
            "tags": []
          },
          "execution_count": 15
        }
      ]
    },
    {
      "cell_type": "markdown",
      "metadata": {
        "id": "ehunNQnAtdMR"
      },
      "source": [
        "# Metodo Newton-Raphson con Biseccion"
      ]
    },
    {
      "cell_type": "code",
      "metadata": {
        "id": "JMLt3CR1tiA2",
        "colab": {
          "base_uri": "https://localhost:8080/"
        },
        "outputId": "37f104f6-442f-41c0-d18e-142b0fcb6fb9"
      },
      "source": [
        "## module error\n",
        "## err(string).\n",
        "## Prints ’string’ and terminates program.\n",
        "import sys\n",
        "\n",
        "def err(string):\n",
        "  print(string)\n",
        "  input('Press return to exit')\n",
        "  sys.exit()\n",
        "\n",
        "\n",
        "## modulo newtonRaphson\n",
        "## raiz = newtonRaphson(f,df,a,b,tol=1.0e-9).\n",
        "## Encuentra la raiz de f(x) = 0 combinando Newton-Raphson\n",
        "## con biseccion. La raiz debe estar en el intervalo (a,b).\n",
        "## Los usuarios definen f(x) y su derivada df(x).\n",
        "##\n",
        "\n",
        "def newtonRaphson(f,df,a,b,tol=1.0e-9):\n",
        "  from numpy import sign\n",
        "  fa = f(a)\n",
        "  if fa == 0.0: return a\n",
        "  fb = f(b)\n",
        "  if fb == 0.0: return b\n",
        "  if sign(fa) == sign(fb): err('La raiz no esta en el intervalo')\n",
        "  x = 0.5*(a + b)\n",
        "  for i in range(30):\n",
        "    print(i)\n",
        "    fx = f(x)\n",
        "    if fx == 0.0: return x \n",
        "    if sign(fa) != sign(fx): b = x # Haz el intervalo mas pequeño\n",
        "    else: a = x\n",
        "    dfx = df(x)  \n",
        "    try: dx = -fx/dfx # Trata un paso con la expresion de Delta x\n",
        "    except ZeroDivisionError: dx = b - a # Si division diverge, intervalo afuera\n",
        "    x = x + dx # avanza en x\n",
        "    if (b - x)*(x - a) < 0.0: # Si el resultado esta fuera, usa biseccion\n",
        "      dx = 0.5*(b - a)\n",
        "      x = a + dx \n",
        "    if abs(dx) < tol*max(abs(b),1.0): return x # Checa la convergencia y sal\n",
        "  print('Too many iterations in Newton-Raphson')\n",
        "\n",
        "\n",
        "def f(x): return x**2 - 1\n",
        "def df(x): return 2*x\n",
        "root = newtonRaphson(f,df,-5.0,0)\n",
        "print('Root =',root)"
      ],
      "execution_count": null,
      "outputs": [
        {
          "output_type": "stream",
          "text": [
            "0\n",
            "1\n",
            "2\n",
            "3\n",
            "4\n",
            "5\n",
            "Root = -1.0\n"
          ],
          "name": "stdout"
        }
      ]
    },
    {
      "cell_type": "markdown",
      "metadata": {
        "id": "wtdzR2-EBFH-"
      },
      "source": [
        "# Newton-Raphson sencillo (ejemplo con raices degeneradas)"
      ]
    },
    {
      "cell_type": "code",
      "metadata": {
        "id": "f_rdRmnw_bP6",
        "colab": {
          "base_uri": "https://localhost:8080/",
          "height": 295
        },
        "outputId": "9b6528d2-1acc-4261-d25f-2d46a7fd508b"
      },
      "source": [
        "import matplotlib.pyplot as plt\n",
        "import numpy as np\n",
        "\n",
        "ax = plt.subplot(111)\n",
        "\n",
        "t = np.arange(0.0, 5.0, 0.25)\n",
        "s = t**4 - 6.4*t**3 + 6.45*t**2 + 20.538*t - 31.752\n",
        "line, = plt.plot(t, s, lw=2)\n",
        "\n",
        "plt.annotate('raiz', xy=(2.0,0.0), xytext=(3.0, 20.0),\n",
        "             arrowprops=dict(facecolor='black', shrink=0.05),\n",
        "             )\n",
        "\n",
        "\n",
        "plt.grid(True)\n",
        "plt.ylim(-40.0, 60.0)\n",
        "\n",
        "plt.title(\"y=x**4 - 6.4*x**3 + 6.45*x**2 + 20.538*x - 31.752\")\n",
        "plt.ylabel('y = f(x)')\n",
        "plt.xlabel('x')\n",
        "\n",
        "plt.savefig('raices-nr.png')"
      ],
      "execution_count": null,
      "outputs": [
        {
          "output_type": "display_data",
          "data": {
            "image/png": "[encoded data removed]",
            "text/plain": [
              "<Figure size 432x288 with 1 Axes>"
            ]
          },
          "metadata": {
            "tags": [],
            "needs_background": "light"
          }
        }
      ]
    },
    {
      "cell_type": "code",
      "metadata": {
        "id": "2pGUzGXEBMv8",
        "colab": {
          "base_uri": "https://localhost:8080/",
          "height": 123
        },
        "outputId": "0452e13e-cab3-4ce9-8b8f-2c726b8104b9"
      },
      "source": [
        "def f(x): return x**4 - 6.4*x**3 + 6.45*x**2 + 20.538*x - 31.752\n",
        "\n",
        "def df(x): return 4.0*x**3 - 19.2*x**2 + 12.9*x + 20.538\n",
        "\n",
        "def newtonRaphson(x,tol=1.0e-9):\n",
        "  for i in range(30):\n",
        "    dx = -f(x)/df(x)\n",
        "    x = x + dx\n",
        "    if abs(dx) < tol: return x,i\n",
        "  print('Too many iterations\\n')\n",
        "\n",
        "def newtonRaphsonDegen(x,tol=1.0e-9):\n",
        "  for i in range(30):\n",
        "    dx = -2*f(x)/df(x)\n",
        "    x = x + dx\n",
        "    if abs(dx) < tol: return x,i\n",
        "  print('Too many iterations\\n')\n",
        "\n",
        "root,numIter = newtonRaphson(2.0)\n",
        "\n",
        "rootd,numIterd = newtonRaphsonDegen(2.0)\n",
        "\n",
        "print('Root =',root)\n",
        "\n",
        "print('Number of iterations =',numIter)\n",
        "\n",
        "print('Root degen=',rootd)\n",
        "\n",
        "print('Number of iterations degen=',numIterd)\n",
        "\n",
        "input('Press return to exit')"
      ],
      "execution_count": null,
      "outputs": [
        {
          "output_type": "stream",
          "text": [
            "Root = 2.0999999786199406\n",
            "Number of iterations = 22\n",
            "Root degen= 2.100000000014807\n",
            "Number of iterations degen= 5\n",
            "Press return to exit\n"
          ],
          "name": "stdout"
        },
        {
          "output_type": "execute_result",
          "data": {
            "application/vnd.google.colaboratory.intrinsic+json": {
              "type": "string"
            },
            "text/plain": [
              "''"
            ]
          },
          "metadata": {
            "tags": []
          },
          "execution_count": 9
        }
      ]
    },
    {
      "cell_type": "markdown",
      "metadata": {
        "id": "8iaEOr_Gof0P"
      },
      "source": [
        "# Newton-Raphson para Sistema de Ecuaciones#\n",
        "Requiere informacion de modulos desarrollados para eliminacion de Gauss"
      ]
    },
    {
      "cell_type": "code",
      "metadata": {
        "id": "e4FlARzKol53",
        "colab": {
          "base_uri": "https://localhost:8080/",
          "height": 88
        },
        "outputId": "171bc240-dfb6-4d07-d362-7c80a9c09c29"
      },
      "source": [
        "## module error\n",
        "## err(string).\n",
        "## Prints ’string’ and terminates program.\n",
        "import sys\n",
        "\n",
        "def err(string):\n",
        "  print(string)\n",
        "  input('Press return to exit')\n",
        "  sys.exit()\n",
        "\n",
        "## module swap\n",
        "# swapRows(v,i,j).\n",
        "# Swaps rows i and j of a vector or matrix [v].\n",
        "# swapCols(v,i,j).\n",
        "#Swaps columns of matrix [v].\n",
        "\n",
        "def swapRows(v,i,j):\n",
        "  if len(v.shape) == 1:\n",
        "    v[i],v[j] = v[j],v[i]\n",
        "  else:\n",
        "    v[[i,j],:] = v[[j,i],:]\n",
        "\n",
        "def swapCols(v,i,j):\n",
        "  v[:,[i,j]] = v[:,[j,i]]\n",
        "\n",
        "## module gaussPivot\n",
        "# x = gaussPivot(a,b,tol=1.0e-12).\n",
        "# Solves [a]{x} = {b} by Gauss elimination with\n",
        "# scaled row pivoting\n",
        "\n",
        "import numpy as np\n",
        "#import swap\n",
        "#import error\n",
        "\n",
        "def gaussPivot(a,b,tol=1.0e-12):\n",
        "\n",
        "  n = len(b) \n",
        "  \n",
        "  # Set up scale factors\n",
        "  s = np.zeros(n)\n",
        "  for i in range(n):\n",
        "    s[i] = max(np.abs(a[i,:]))\n",
        "\n",
        "  for k in range(0,n-1): \n",
        "\n",
        "      # Row interchange, if needed\n",
        "      p = np.argmax(np.abs(a[k:n,k])/s[k:n]) + k\n",
        "      if abs(a[p,k]) < tol: error.err(\"Matrix is singular\")\n",
        "      if p != k:\n",
        "        swapRows(b,k,p)\n",
        "        swapRows(s,k,p)\n",
        "        swapRows(a,k,p)\n",
        "\n",
        "        # Elimination\n",
        "      for i in range(k+1,n):\n",
        "        if a[i,k] != 0.0:\n",
        "          lam = a[i,k]/a[k,k]\n",
        "          a[i,k+1:n] = a[i,k+1:n] - lam*a[k,k+1:n]\n",
        "          b[i] = b[i] - lam*b[k]\n",
        "            \n",
        "  if abs(a[n-1,n-1]) < tol: error.err(\"Matrix is singular\")\n",
        "\n",
        "  # Back substitution\n",
        "  b[n-1] = b[n-1]/a[n-1,n-1]\n",
        "  for k in range(n-2,-1,-1):\n",
        "    b[k] = (b[k] - np.dot(a[k,k+1:n],b[k+1:n]))/a[k,k]\n",
        "  return b\n",
        "\n",
        "\n",
        "## module newtonRaphson2\n",
        "\n",
        "# soln = newtonRaphson2(f,x,tol=1.0e-9).\n",
        "\n",
        "# Resuelve las ecuaciones simultaneas f(x) = 0 con el metodo\n",
        "# de Newton-Raphson, usando {x} como el valor inicial. \n",
        "# Nota que {f} y {x} son vectores.\n",
        "\n",
        "#import numpy as np\n",
        "#from gaussPivot import *\n",
        "import math\n",
        "\n",
        "def newtonRaphson2(f,x,tol=1.0e-9):\n",
        "  \n",
        "  def jacobian(f,x):\n",
        "    h = 1.0e-4\n",
        "    n = len(x)\n",
        "    jac = np.zeros((n,n))\n",
        "    f0 = f(x)\n",
        "    for i in range(n):\n",
        "      temp = x[i]\n",
        "      x[i] = temp + h\n",
        "      f1 = f(x)\n",
        "      x[i] = temp\n",
        "      jac[:,i] = (f1 - f0)/h\n",
        "    return jac,f0\n",
        "\n",
        "  for i in range(30):\n",
        "    jac,f0 = jacobian(f,x)\n",
        "    if math.sqrt(np.dot(f0,f0)/len(x)) < tol: return x\n",
        "    dx = gaussPivot(jac,-f0)\n",
        "    x = x + dx\n",
        "    if math.sqrt(np.dot(dx,dx)) < tol*max(max(abs(x)),1.0):\n",
        "      return x\n",
        "  print(\"Too many iterations\")\n",
        "\n",
        "##### Ejemplo 4.9\n",
        "def f(x):\n",
        "  f = np.zeros(len(x))\n",
        "  f[0] = math.sin(x[0]) + x[1]**2 + math.log(x[2]) - 7.0\n",
        "  f[1] = 3.0*x[0] + 2.0**x[1] - x[2]**3 + 1.0\n",
        "  f[2] = x[0] + x[1] + x[2] - 5.0\n",
        "  return f\n",
        "\n",
        "x = np.array([1.0, 1.0, 1.0])\n",
        "\n",
        "print(newtonRaphson2(f,x))\n",
        "\n",
        "input(\"\\nPress return to exit\")"
      ],
      "execution_count": null,
      "outputs": [
        {
          "output_type": "stream",
          "text": [
            "[0.59905376 2.3959314  2.00501484]\n",
            "\n",
            "Press return to exit\n"
          ],
          "name": "stdout"
        },
        {
          "output_type": "execute_result",
          "data": {
            "application/vnd.google.colaboratory.intrinsic+json": {
              "type": "string"
            },
            "text/plain": [
              "''"
            ]
          },
          "metadata": {
            "tags": []
          },
          "execution_count": 1
        }
      ]
    },
    {
      "cell_type": "markdown",
      "metadata": {
        "id": "UkCsQYQGvUmG"
      },
      "source": [
        "# Ejemplo de plot"
      ]
    },
    {
      "cell_type": "code",
      "metadata": {
        "id": "vDqkljifpsZB",
        "colab": {
          "base_uri": "https://localhost:8080/",
          "height": 287
        },
        "outputId": "efed9e39-6e33-48c7-d6db-4cbe55b8e48a"
      },
      "source": [
        "import matplotlib.patches as patches\n",
        "import matplotlib.pyplot as plt\n",
        "\n",
        "fig, axs = plt.subplots(1,1)\n",
        "\n",
        "t1 = axs.text(0.4,0.6, 'Hello world line 1', ha='center', color='red', weight='bold', transform=axs.transAxes)\n",
        "t2 = axs.text(0.5,0.5, 'Hello world line 2', ha='center', color='green', weight='bold', transform=axs.transAxes)\n",
        "t3 = axs.text(0.6,0.4, 'Hello world line 3', ha='center', color='blue', weight='bold', transform=axs.transAxes)\n",
        "\n",
        "fig.canvas.draw()\n",
        "\n",
        "textobjs = [t1,t2,t3]\n",
        "\n",
        "xmin = min([t.get_window_extent().xmin for t in textobjs])\n",
        "xmax = max([t.get_window_extent().xmax for t in textobjs])\n",
        "ymin = min([t.get_window_extent().ymin for t in textobjs])\n",
        "ymax = max([t.get_window_extent().ymax for t in textobjs])\n",
        "\n",
        "xmin, ymin = fig.transFigure.inverted().transform((xmin, ymin))\n",
        "xmax, ymax = fig.transFigure.inverted().transform((xmax, ymax))\n",
        "\n",
        "rect = patches.Rectangle((xmin,ymin),xmax-xmin,ymax-ymin, facecolor='grey', alpha=0.2, transform=fig.transFigure)\n",
        "\n",
        "axs.add_patch(rect)\n"
      ],
      "execution_count": null,
      "outputs": [
        {
          "output_type": "execute_result",
          "data": {
            "text/plain": [
              "<matplotlib.patches.Rectangle at 0x7f6c6958bc88>"
            ]
          },
          "metadata": {
            "tags": []
          },
          "execution_count": 1
        },
        {
          "output_type": "display_data",
          "data": {
            "image/png": "[encoded data removed]",
            "text/plain": [
              "<Figure size 432x288 with 1 Axes>"
            ]
          },
          "metadata": {
            "tags": [],
            "needs_background": "light"
          }
        }
      ]
    },
    {
      "cell_type": "markdown",
      "metadata": {
        "id": "Owo0YQtjMrZt"
      },
      "source": [
        "# Prueba Pyomo"
      ]
    },
    {
      "cell_type": "code",
      "metadata": {
        "id": "E85IRTVAMp3A",
        "colab": {
          "base_uri": "https://localhost:8080/"
        },
        "outputId": "d7a7b89b-e236-4488-b055-0b9c257f46c3"
      },
      "source": [
        "pip install pyomo"
      ],
      "execution_count": null,
      "outputs": [
        {
          "output_type": "stream",
          "text": [
            "Collecting pyomo\n",
            "\u001b[?25l  Downloading https://files.pythonhosted.org/packages/db/6f/790085bfe030595bf45cfa5f0aede43fc7947b05504ef96fa9d4d22aff79/Pyomo-5.7.1-cp36-cp36m-manylinux2010_x86_64.whl (9.4MB)\n",
            "\u001b[K     |████████████████████████████████| 9.4MB 2.8MB/s \n",
            "\u001b[?25hRequirement already satisfied: six>=1.4 in /usr/local/lib/python3.6/dist-packages (from pyomo) (1.15.0)\n",
            "Collecting PyUtilib>=6.0\n",
            "\u001b[?25l  Downloading https://files.pythonhosted.org/packages/e1/e7/c3e5994b4e5c90280b5c14ffef409875ec5436d1d0d9f8585794993a7d77/PyUtilib-6.0.0-py2.py3-none-any.whl (254kB)\n",
            "\u001b[K     |████████████████████████████████| 256kB 31.5MB/s \n",
            "\u001b[?25hCollecting ply\n",
            "\u001b[?25l  Downloading https://files.pythonhosted.org/packages/a3/58/35da89ee790598a0700ea49b2a66594140f44dec458c07e8e3d4979137fc/ply-3.11-py2.py3-none-any.whl (49kB)\n",
            "\u001b[K     |████████████████████████████████| 51kB 5.7MB/s \n",
            "\u001b[?25hCollecting nose\n",
            "\u001b[?25l  Downloading https://files.pythonhosted.org/packages/15/d8/dd071918c040f50fa1cf80da16423af51ff8ce4a0f2399b7bf8de45ac3d9/nose-1.3.7-py3-none-any.whl (154kB)\n",
            "\u001b[K     |████████████████████████████████| 163kB 47.1MB/s \n",
            "\u001b[?25hInstalling collected packages: nose, PyUtilib, ply, pyomo\n",
            "Successfully installed PyUtilib-6.0.0 nose-1.3.7 ply-3.11 pyomo-5.7.1\n"
          ],
          "name": "stdout"
        }
      ]
    },
    {
      "cell_type": "code",
      "metadata": {
        "id": "gOq4pHbtNqWS"
      },
      "source": [
        ""
      ],
      "execution_count": null,
      "outputs": []
    },
    {
      "cell_type": "markdown",
      "metadata": {
        "id": "K4ZDXF-tu_fC"
      },
      "source": [
        "# Otras Pruebas"
      ]
    },
    {
      "cell_type": "code",
      "metadata": {
        "id": "0C27-vEm8M8z",
        "colab": {
          "base_uri": "https://localhost:8080/",
          "height": 35
        },
        "outputId": "8e992f94-d88a-4fd6-93ee-9addc240b084"
      },
      "source": [
        "# Programa que suma dos numeros (geeksforgeeks.org)\n",
        "\n",
        "num1 = 15\n",
        "num2 = 12\n",
        "\n",
        "# Suma los dos numeros \n",
        "sum = num1 + num2 \n",
        "\n",
        "# Imprime el resultado\n",
        "print(\"La suma de {0} and {1} es {2}\" .format(num1, num2, sum)) \n"
      ],
      "execution_count": null,
      "outputs": [
        {
          "output_type": "stream",
          "text": [
            "La suma de 15 and 12 es 27\n"
          ],
          "name": "stdout"
        }
      ]
    },
    {
      "cell_type": "code",
      "metadata": {
        "id": "cLcYb5FJ9BWL",
        "colab": {
          "base_uri": "https://localhost:8080/",
          "height": 108
        },
        "outputId": "db9a45cc-5c4e-496d-8339-af054ebc50d9"
      },
      "source": [
        "# Programa que suma dos numeros con input del usuario (geeksforgeeks.org)\n",
        "  \n",
        "number1 = input(\"Primer numero: \") \n",
        "number2 = input(\"\\nSegundo numero: \") \n",
        "  \n",
        "# Suma de los dos numeros que pueden ser flotantes\n",
        "sum = float(number1) + float(number2) \n",
        "  \n",
        "# Imprime la suma en flotante\n",
        "print(\"\\nLa suma de {0} y {1} es {2}\" .format(number1, number2, sum))"
      ],
      "execution_count": null,
      "outputs": [
        {
          "output_type": "stream",
          "text": [
            "Primer numero: 3\n",
            "\n",
            "Segundo numero: 4\n",
            "\n",
            "La suma de 3 y 4 es 7.0\n"
          ],
          "name": "stdout"
        }
      ]
    },
    {
      "cell_type": "code",
      "metadata": {
        "id": "WuZuon9oDivg",
        "colab": {
          "base_uri": "https://localhost:8080/",
          "height": 35
        },
        "outputId": "142d8a6e-8d4b-4803-a45a-7323009d97df"
      },
      "source": [
        "# Programa que encuentra la suma \n",
        "# del cuadrado de los primeros\n",
        "#  n numeros naturales\n",
        "# (geeksforgeeks.org, Nikita Tiwari)\n",
        "  \n",
        "# define la funcion que  \n",
        "# regresa la suma de los\n",
        "# cuadrados de los primeros n\n",
        "# numeros naturales\n",
        "def squaresum(n) : \n",
        "  \n",
        "    # Itera i de 1 hasta n+1 y\n",
        "    # encuentra el cuadrado de i \n",
        "    # y agregalo a la suma sm\n",
        "    # inicializada en 0\n",
        "    sm = 0\n",
        "    for i in range(1, n+1) : \n",
        "        sm = sm + (i * i) \n",
        "      \n",
        "    return sm \n",
        "  \n",
        "# hazlo para n=4\n",
        "n = 4\n",
        "# imprime el resultado\n",
        "print(squaresum(n)) \n",
        "  "
      ],
      "execution_count": null,
      "outputs": [
        {
          "output_type": "stream",
          "text": [
            "30\n"
          ],
          "name": "stdout"
        }
      ]
    },
    {
      "cell_type": "code",
      "metadata": {
        "id": "QBe9J64tm7gk",
        "colab": {
          "base_uri": "https://localhost:8080/",
          "height": 35
        },
        "outputId": "46f68d51-cdb4-4088-a471-06b32c09aa3b"
      },
      "source": [
        "# Suma de los elementos de un arreglo\n",
        "# (geeksforgeeks.org, Himanshu Ranjan)\n",
        "\n",
        "# carga la libreria numpy\n",
        "import numpy as np\n",
        "\n",
        "# define funcion auxiliar\n",
        "def sumarreglo(arr,n): \n",
        "    \n",
        "  \t# return sum using sum \n",
        "  \t# inbuilt sum() function \n",
        "  \treturn np.sum(arr)\n",
        "\n",
        "# driver function \n",
        "arr=[] \n",
        "# input values to list \n",
        "arr = [12, 3, 4, 15] \n",
        "\n",
        "# calculating length of array \n",
        "n = len(arr) \n",
        "ans = sumarreglo(arr,n) \n",
        "\n",
        "# display sum \n",
        "print ('La suma de los elementos del arreglo es', ans)\n"
      ],
      "execution_count": null,
      "outputs": [
        {
          "output_type": "stream",
          "text": [
            "La suma de los elementos del arreglo es 34\n"
          ],
          "name": "stdout"
        }
      ]
    },
    {
      "cell_type": "code",
      "metadata": {
        "id": "lHHmdQfXxKTt",
        "colab": {
          "base_uri": "https://localhost:8080/",
          "height": 35
        },
        "outputId": "de0a7ce9-3447-4861-9f52-5f8b6a842f7f"
      },
      "source": [
        "# Version simplificada del anterior:\n",
        "\n",
        "import numpy as np\n",
        "\n",
        "array1 = np.array(\n",
        "    [[1, 2],\n",
        "     [3, 4],\n",
        "     [5, 6]])\n",
        "\n",
        "total = np.sum(array1)\n",
        "\n",
        "# nota la manera de imprimir con formato\n",
        "\n",
        "print(f'La suma de todos los elementos del arreglo es {total}')"
      ],
      "execution_count": null,
      "outputs": [
        {
          "output_type": "stream",
          "text": [
            "La suma de todos los elementos del arreglo es 21\n"
          ],
          "name": "stdout"
        }
      ]
    },
    {
      "cell_type": "code",
      "metadata": {
        "id": "PI_EO6sbodAF"
      },
      "source": [
        ""
      ],
      "execution_count": null,
      "outputs": []
    },
    {
      "cell_type": "markdown",
      "metadata": {
        "id": "4Kgit8xUCc6W"
      },
      "source": [
        "# Eliminacion de Gauss"
      ]
    },
    {
      "cell_type": "code",
      "metadata": {
        "id": "D0xsjQCHCcQb"
      },
      "source": [
        "## modulo gaussElimin\n",
        "'''x = gaussElimin(a,b).\n",
        "  Resuelve [a]{x} = {b} por metodo eliminacion de Gauss.\n",
        "'''\n",
        "import numpy as np\n",
        "\n",
        "def gaussElimin(a,b):\n",
        "  n = len(b)\n",
        "  # Fase de eliminacion\n",
        "  for k in range(0,n-1):\n",
        "    for i in range(k+1,n):\n",
        "      if a[i,k] != 0.0:\n",
        "        lam = a [i,k]/a[k,k]\n",
        "        a[i,k+1:n] = a[i,k+1:n] - lam*a[k,k+1:n]\n",
        "        b[i] = b[i] - lam*b[k]\n",
        "  # Fase de sustitucion hacia atras\n",
        "  for k in range(n-1,-1,-1):\n",
        "    b[k] = (b[k] - np.dot(a[k,k+1:n],b[k+1:n]))/a[k,k]\n",
        "  return b\n",
        "\n"
      ],
      "execution_count": null,
      "outputs": []
    },
    {
      "cell_type": "markdown",
      "metadata": {
        "id": "8UV8t_PLApsh"
      },
      "source": [
        "Ejemplo Vandermode"
      ]
    },
    {
      "cell_type": "code",
      "metadata": {
        "colab": {
          "base_uri": "https://localhost:8080/"
        },
        "id": "fgRGXw8wAo4C",
        "outputId": "b8fc8180-abc3-4cdb-e988-3efa51b8d542"
      },
      "source": [
        "import numpy as np\n",
        "\n",
        "def gaussElimin(a,b):\n",
        "  n = len(b)\n",
        "  # Fase de eliminacion\n",
        "  for k in range(0,n-1):\n",
        "    for i in range(k+1,n):\n",
        "      if a[i,k] != 0.0:\n",
        "        lam = a [i,k]/a[k,k]\n",
        "        a[i,k+1:n] = a[i,k+1:n] - lam*a[k,k+1:n]\n",
        "        b[i] = b[i] - lam*b[k]\n",
        "  # Fase de sustitucion hacia atras\n",
        "  for k in range(n-1,-1,-1):\n",
        "    b[k] = (b[k] - np.dot(a[k,k+1:n],b[k+1:n]))/a[k,k]\n",
        "  return b\n",
        "\n",
        "### Funcion para matriz de coeficientes a partir de vector Vandermode\n",
        "def vandermode(v):\n",
        "  n = len(v)\n",
        "  a = np.zeros((n,n))\n",
        "  for j in range(n):\n",
        "    a[:,j] = v**(n-j-1)\n",
        "  return a\n",
        "\n",
        "### Vectores dados en ejemplo\n",
        "v = np.array([1.0, 1.2, 1.4, 1.6, 1.8, 2.0])\n",
        "b = np.array([0.0, 1.0, 0.0, 1.0, 0.0, 1.0])\n",
        "\n",
        "### Matriz de coeficientes\n",
        "a = vandermode(v)\n",
        "\n",
        "### Guarda una copia de la matriz y el vector original\n",
        "aOrig = a.copy() \n",
        "bOrig = b.copy() \n",
        "\n",
        "### Encuentra la solucion con eliminacion de Gauss\n",
        "x = gaussElimin(a,b)\n",
        "\n",
        "### Calcula el determinante de la matriz de coeficientes\n",
        "det = np.prod(np.diagonal(a))\n",
        "\n",
        "### Imprime la matriz de coeficientes\n",
        "print('\\n Matriz de coeficientes: A= \\n',aOrig)\n",
        "### Imprime el vector solucion\n",
        "print('\\n Vector solucion: x =\\n',x)\n",
        "### Imprime la determinante de la matriz de coeficientes\n",
        "print('\\n determinante =',det)\n",
        "### Imprime la verificacion del resultado\n",
        "print('\\nVerificacion del resultado: [a]{x} - b =\\n',np.dot(aOrig,x) - bOrig)"
      ],
      "execution_count": null,
      "outputs": [
        {
          "output_type": "stream",
          "text": [
            "\n",
            " Matriz de coeficientes: A= \n",
            " [[ 1.       1.       1.       1.       1.       1.     ]\n",
            " [ 2.48832  2.0736   1.728    1.44     1.2      1.     ]\n",
            " [ 5.37824  3.8416   2.744    1.96     1.4      1.     ]\n",
            " [10.48576  6.5536   4.096    2.56     1.6      1.     ]\n",
            " [18.89568 10.4976   5.832    3.24     1.8      1.     ]\n",
            " [32.      16.       8.       4.       2.       1.     ]]\n",
            "\n",
            " Vector solucion: x =\n",
            " [   416.66666667  -3125.00000004   9250.00000012 -13500.00000017\n",
            "   9709.33333345  -2751.00000003]\n",
            "\n",
            " determinante = -1.1324620799859046e-06\n",
            "\n",
            "Verificacion del resultado: [a]{x} - b =\n",
            " [ 0.00000000e+00  0.00000000e+00  0.00000000e+00  0.00000000e+00\n",
            " -3.45607987e-11  1.81898940e-11]\n"
          ],
          "name": "stdout"
        }
      ]
    },
    {
      "cell_type": "markdown",
      "metadata": {
        "id": "V6O9X9IxPxry"
      },
      "source": [
        "# Decomposicion LU - Doolittle"
      ]
    },
    {
      "cell_type": "code",
      "metadata": {
        "id": "cuy_-ZdjP2kB"
      },
      "source": [
        "## modulo LUdecomp - Doolittle\n",
        "''' \n",
        "a = LUdecomp(a)\n",
        "Fase de decomposicion LU: [L][U] = [a]\n",
        "x = LUsolve(a,b)\n",
        "Fase de solucion: [L][U]{x} = {b}\n",
        "'''\n",
        "import numpy as np\n",
        "\n",
        "def LUdecomp(a):\n",
        "  n = len(a)\n",
        "  for k in range(0,n-1):\n",
        "    for i in range(k+1,n):\n",
        "      if a[i,k] != 0.0:\n",
        "           lam = a [i,k]/a[k,k]\n",
        "           a[i,k+1:n] = a[i,k+1:n] - lam*a[k,k+1:n]\n",
        "           a[i,k] = lam\n",
        "  return a\n",
        "\n",
        "\n",
        "def LUsolve(a,b):\n",
        "  n = len(a)\n",
        "  for k in range(1,n):\n",
        "    b[k] = b[k] - np.dot(a[k,0:k],b[0:k])\n",
        "  b[n-1] = b[n-1]/a[n-1,n-1]\n",
        "  for k in range(n-2,-1,-1):\n",
        "    b[k] = (b[k] - np.dot(a[k,k+1:n],b[k+1:n]))/a[k,k]\n",
        "  return b"
      ],
      "execution_count": null,
      "outputs": []
    },
    {
      "cell_type": "markdown",
      "metadata": {
        "id": "61KcpaEYUfvl"
      },
      "source": [
        "Ejemplo con Doolittle"
      ]
    },
    {
      "cell_type": "code",
      "metadata": {
        "colab": {
          "base_uri": "https://localhost:8080/"
        },
        "id": "5LEuZqNeUe7i",
        "outputId": "527ba0e8-a028-46a6-8e58-b59c2f0095f0"
      },
      "source": [
        "## modulo LUdecomp - Doolittle\n",
        "\n",
        "import numpy as np\n",
        "\n",
        "def LUdecomp(a):\n",
        "  n = len(a)\n",
        "  for k in range(0,n-1):\n",
        "    for i in range(k+1,n):\n",
        "      if a[i,k] != 0.0:\n",
        "           lam = a [i,k]/a[k,k]\n",
        "           a[i,k+1:n] = a[i,k+1:n] - lam*a[k,k+1:n]\n",
        "           a[i,k] = lam\n",
        "  return a\n",
        "\n",
        "def LUsolve(a,b):\n",
        "  n = len(a)\n",
        "  for k in range(1,n):\n",
        "    b[k] = b[k] - np.dot(a[k,0:k],b[0:k])\n",
        "  b[n-1] = b[n-1]/a[n-1,n-1]\n",
        "  for k in range(n-2,-1,-1):\n",
        "    b[k] = (b[k] - np.dot(a[k,k+1:n],b[k+1:n]))/a[k,k]\n",
        "  return b\n",
        "\n",
        "##### Arreglos del ejemplo\n",
        "\n",
        "a = np.array([[ 3.0, -1.0, 4.0],\\\n",
        "              [-2.0, 0.0, 5.0],\\\n",
        "              [ 7.0, 2.0,-2.0]])\n",
        "b = np.array([[ 6.0, 3.0, 7.0],\\\n",
        "              [-4.0, 2.0, -5.0]])\n",
        "\n",
        "### Decomposici\\'on de a\n",
        "a = LUdecomp(a)\n",
        "\n",
        "### Determinante de a\n",
        "det = np.prod(np.diagonal(a))\n",
        "print(\"\\nDeterminante =\",det)\n",
        "\n",
        "### Solucion para cada columna de B\n",
        "for i in range(len(b)):\n",
        "  x = LUsolve(a,b[i])\n",
        "  print(\"Solucion x_\",i+1,\"=\",x)\n",
        "\n"
      ],
      "execution_count": null,
      "outputs": [
        {
          "output_type": "stream",
          "text": [
            "\n",
            "Determinante = -77.0\n",
            "Solucion x_ 1 = [1. 1. 1.]\n",
            "Solucion x_ 2 = [-1.00000000e+00  1.00000000e+00  2.30695693e-17]\n"
          ],
          "name": "stdout"
        }
      ]
    },
    {
      "cell_type": "markdown",
      "metadata": {
        "id": "DxWz-JT5EV1f"
      },
      "source": [
        "# Decomposicion LU - Doolittle - Tridiagonal"
      ]
    },
    {
      "cell_type": "code",
      "metadata": {
        "id": "_OjCxtkbEivD"
      },
      "source": [
        "## modulo LUdecomp3\n",
        "''' c,d,e = LUdecomp3(c,d,e).\n",
        "Decomposicion LU de la matriz tridiagonal [c\\d\\e]. La salida\n",
        "{c},{d} y {e} son las diagonales de la matriz decompuesta.\n",
        "x = LUsolve(c,d,e,b).\n",
        "Resuelve [c\\d\\e]{x} = {b}, donde {c}, {d} y {e} son los vectores\n",
        "que da LUdecomp3.\n",
        "'''\n",
        "\n",
        "def LUdecomp3(c,d,e):\n",
        "  n = len(d)\n",
        "  for k in range(1,n):\n",
        "    lam = c[k-1]/d[k-1]\n",
        "    d[k] = d[k] - lam*e[k-1]\n",
        "    c[k-1] = lam\n",
        "  return c,d,e\n",
        "\n",
        "def LUsolve3(c,d,e,b):\n",
        "  n = len(d)\n",
        "  for k in range(1,n):\n",
        "    b[k] = b[k] - c[k-1]*b[k-1]\n",
        "  b[n-1] = b[n-1]/d[n-1]\n",
        "  for k in range(n-2,-1,-1):\n",
        "    b[k] = (b[k] - e[k]*b[k+1])/d[k]\n",
        "  return b"
      ],
      "execution_count": null,
      "outputs": []
    },
    {
      "cell_type": "code",
      "metadata": {
        "colab": {
          "base_uri": "https://localhost:8080/"
        },
        "id": "nBVVFYPuFbBs",
        "outputId": "72e80fd6-6aef-4a14-8034-27a0aa08d0a9"
      },
      "source": [
        "def LUdecomp3(c,d,e):\n",
        "  n = len(d)\n",
        "  for k in range(1,n):\n",
        "    lam = c[k-1]/d[k-1]\n",
        "    d[k] = d[k] - lam*e[k-1]\n",
        "    c[k-1] = lam\n",
        "  return c,d,e\n",
        "\n",
        "def LUsolve3(c,d,e,b):\n",
        "  n = len(d)\n",
        "  for k in range(1,n):\n",
        "    b[k] = b[k] - c[k-1]*b[k-1]\n",
        "  b[n-1] = b[n-1]/d[n-1]\n",
        "  for k in range(n-2,-1,-1):\n",
        "    b[k] = (b[k] - e[k]*b[k+1])/d[k]\n",
        "  return b\n",
        "\n",
        "import numpy as np\n",
        "\n",
        "d = np.ones((5))*2.0\n",
        "c = np.ones((4))*(-1.0)\n",
        "b = np.array([5.0, -5.0, 4.0, -5.0, 5.0])\n",
        "e = c.copy()\n",
        "\n",
        "c,d,e = LUdecomp3(c,d,e)\n",
        "\n",
        "x = LUsolve3(c,d,e,b)\n",
        "\n",
        "print(\"\\nx =\\n\",x)\n"
      ],
      "execution_count": null,
      "outputs": [
        {
          "output_type": "stream",
          "text": [
            "\n",
            "x =\n",
            " [ 2. -1.  1. -1.  2.]\n"
          ],
          "name": "stdout"
        }
      ]
    },
    {
      "cell_type": "markdown",
      "metadata": {
        "id": "-8ehxCtvytAA"
      },
      "source": [
        "# Eliminacion de Gauss con Pivoteo Escalado"
      ]
    },
    {
      "cell_type": "code",
      "metadata": {
        "id": "t642YiIfyyA1"
      },
      "source": [
        "import numpy as np\n",
        "import sys\n",
        "\n",
        "## modulo error\n",
        "'''\n",
        "err(string). Imprime 'texto' y termina el programa.\n",
        "'''\n",
        "\n",
        "def err(string):\n",
        "  print(string)\n",
        "  input('Press return to exit')\n",
        "  sys.exit()\n",
        "\n",
        "\n",
        "## modulo swap\n",
        "''' \n",
        "swapRows(v,i,j). Intercambia renglones i y j de un arreglo [v].\n",
        "swapCols(v,i,j). Intercambia columnas i y j de un arreglo [v].\n",
        "'''\n",
        "\n",
        "def swapRows(v,i,j):\n",
        "  if len(v.shape) == 1:\n",
        "    v[i],v[j] = v[j],v[i]\n",
        "  else:\n",
        "    v[[i,j],:] = v[[j,i],:]\n",
        "\n",
        "def swapCols(v,i,j):\n",
        "  v[:,[i,j]] = v[:,[j,i]]\n",
        "\n",
        "\n",
        "## modulo gaussPivot\n",
        "''' x = gaussPivot(a,b,tol=1.0e-12).\n",
        "Resuelve [a]{x} = {b} con eliminacion de Gauss\n",
        "y pivoteo escalado\n",
        "'''\n",
        "\n",
        "def gaussPivot(a,b,tol=1.0e-12):\n",
        "  n = len(b)\n",
        "\n",
        "  # Construye los factores de escala\n",
        "  s = np.zeros(n)\n",
        "  for i in range(n):\n",
        "    s[i] = max(np.abs(a[i,:]))\n",
        "    \n",
        "\n",
        "  for k in range(0,n-1):\n",
        "    \n",
        "    # Si es necesario, intercambia renglones\n",
        "    p = np.argmax(np.abs(a[k:n,k])/s[k:n]) + k\n",
        "    if abs(a[p,k]) < tol: error.err('La matriz es singular')\n",
        "    if p != k:\n",
        "      swap.swapRows(b,k,p)\n",
        "      swap.swapRows(s,k,p)\n",
        "      swap.swapRows(a,k,p)\n",
        "      \n",
        "    # Fase de eliminacion\n",
        "    for i in range(k+1,n):\n",
        "      if a[i,k] != 0.0:\n",
        "        lam = a[i,k]/a[k,k]\n",
        "        a[i,k+1:n] = a[i,k+1:n] - lam*a[k,k+1:n]\n",
        "        b[i] = b[i] - lam*b[k]\n",
        "  if abs(a[n-1,n-1]) < tol: error.err('La matriz es singular')\n",
        "\n",
        "  # Fase de sustitucion hacia atras\n",
        "  b[n-1] = b[n-1]/a[n-1,n-1]\n",
        "  for k in range(n-2,-1,-1):\n",
        "    b[k] = (b[k] - np.dot(a[k,k+1:n],b[k+1:n]))/a[k,k]\n",
        "  return b"
      ],
      "execution_count": null,
      "outputs": []
    },
    {
      "cell_type": "markdown",
      "metadata": {
        "id": "GyjJ0sssu8vE"
      },
      "source": [
        "# Metodo Iterativo Gauss-Seidel"
      ]
    },
    {
      "cell_type": "code",
      "metadata": {
        "id": "grweGXLUvHE-"
      },
      "source": [
        "## modulo gaussSeidel\n",
        "''' x,numIter,omega = gaussSeidel(iterEqs,x,tol = 1.0e-9)\n",
        "Metodo Gauss-Seidel para resolver [A]{x} = {b}.\n",
        "La matriz [A] debe ser dispersa. El/La usuario va a declarar la \n",
        "funcion iterEqs(x,omega) que da la version mejorada de {x},\n",
        "a partir del valor actual de {x} (omega es el factor de relajacion).\n",
        "'''\n",
        "import numpy as np\n",
        "import math\n",
        "\n",
        "def gaussSeidel(iterEqs,x,tol = 1.0e-9):\n",
        "  omega = 1.0\n",
        "  k = 10\n",
        "  p = 1\n",
        "  for i in range(1,501):\n",
        "    xOld = x.copy()\n",
        "    x = iterEqs(x,omega)\n",
        "    dx = math.sqrt(np.dot(x-xOld,x-xOld))\n",
        "    if dx < tol: return x,i,omega\n",
        "    # Calcula el factor de relajacion despues de k+p iteraciones\n",
        "    if i == k: dx1 = dx\n",
        "    if i == k + p:\n",
        "      dx2 = dx\n",
        "      omega = 2.0/(1.0 + math.sqrt(1.0 - (dx2/dx1)**(1.0/p)))\n",
        "  print('Gauss-Seidel no converge')"
      ],
      "execution_count": null,
      "outputs": []
    },
    {
      "cell_type": "markdown",
      "metadata": {
        "id": "3Gi1s9oXwHL5"
      },
      "source": [
        "Elemplo con Matriz Tridiagonal Ciclica"
      ]
    },
    {
      "cell_type": "code",
      "metadata": {
        "colab": {
          "base_uri": "https://localhost:8080/"
        },
        "id": "qIlOGj-_wK_e",
        "outputId": "73053e3e-ee20-457e-8914-5a051c47cadf"
      },
      "source": [
        "import numpy as np\n",
        "import math\n",
        "\n",
        "def gaussSeidel(iterEqs,x,tol = 1.0e-9):\n",
        "  omega = 1.0\n",
        "  k = 10\n",
        "  p = 1\n",
        "  for i in range(1,501):\n",
        "    xOld = x.copy()\n",
        "    x = iterEqs(x,omega)\n",
        "    dx = math.sqrt(np.dot(x-xOld,x-xOld))\n",
        "    if dx < tol: return x,i,omega\n",
        "    # Calcula el factor de relajacion despues de k+p iteraciones\n",
        "    if i == k: dx1 = dx\n",
        "    if i == k + p:\n",
        "      dx2 = dx\n",
        "      omega = 2.0/(1.0 + math.sqrt(1.0 - (dx2/dx1)**(1.0/p)))\n",
        "  print('Gauss-Seidel no converge')\n",
        "\n",
        "#### Construccion de valores interpolados con la matriz del ejemplo.\n",
        "\n",
        "def iterEqs(x,omega):\n",
        "  n = len(x)\n",
        "  x[0] = omega*(x[1] - x[n-1])/2.0 + (1.0 - omega)*x[0]\n",
        "  for i in range(1,n-1):\n",
        "    x[i] = omega*(x[i-1] + x[i+1])/2.0 + (1.0 - omega)*x[i]\n",
        "  x[n-1] = omega*(1.0 - x[0] + x[n-2])/2.0 + (1.0 - omega)*x[n-1]\n",
        "  return x\n",
        "\n",
        "### El/La Usuaria da el numero de ecuaciones que tiene el SEL\n",
        "\n",
        "n = eval(input(\"Numero de ecuaciones ==> \")) \n",
        "\n",
        "### El valor de inicializacion del metodo iterativo es un vector de ceros\n",
        "\n",
        "x = np.zeros(n)\n",
        "\n",
        "### Implementacion del Metodo de Gauss-Seidel para el ejemplo\n",
        "\n",
        "x,numIter,omega = gaussSeidel(iterEqs,x)\n",
        "\n",
        "print(\"\\nNumero de iteraciones =\",numIter)\n",
        "print(\"\\nFactor de relajacion =\",omega)\n",
        "print(\"\\nLa solucion es:\\n\",x)"
      ],
      "execution_count": null,
      "outputs": [
        {
          "output_type": "stream",
          "text": [
            "Numero de ecuaciones ==> 20\n",
            "\n",
            "Numero de iteraciones = 259\n",
            "\n",
            "Factor de relajacion = 1.7054523107131407\n",
            "\n",
            "La solucion es:\n",
            " [-4.50000000e+00 -4.00000000e+00 -3.50000000e+00 -3.00000000e+00\n",
            " -2.50000000e+00 -2.00000000e+00 -1.50000000e+00 -9.99999997e-01\n",
            " -4.99999998e-01  2.14046747e-09  5.00000002e-01  1.00000000e+00\n",
            "  1.50000000e+00  2.00000000e+00  2.50000000e+00  3.00000000e+00\n",
            "  3.50000000e+00  4.00000000e+00  4.50000000e+00  5.00000000e+00]\n"
          ],
          "name": "stdout"
        }
      ]
    },
    {
      "cell_type": "markdown",
      "metadata": {
        "id": "XOdlZV6cx_dY"
      },
      "source": [
        "Vemos que la convergencia es muy lenta porque no es una matriz con dominancia en la diagonal. Podemos hacer que se calcule con una matriz que sea diagonalmente dominante y podemos alcanzar una convergencia mas rapida. Si cambiamos los elementos de la diagonal de 2 a 4, vemos que converge mucho mas rapido: pasa de 259 iteraciones a 17 iteraciones!!! :)"
      ]
    },
    {
      "cell_type": "code",
      "metadata": {
        "colab": {
          "base_uri": "https://localhost:8080/"
        },
        "id": "vvh7Ram8yXLN",
        "outputId": "333193ca-c058-4c35-95bf-9236046eacb5"
      },
      "source": [
        "import numpy as np\n",
        "import math\n",
        "\n",
        "def gaussSeidel(iterEqs,x,tol = 1.0e-9):\n",
        "  omega = 1.0\n",
        "  k = 10\n",
        "  p = 1\n",
        "  for i in range(1,501):\n",
        "    xOld = x.copy()\n",
        "    x = iterEqs(x,omega)\n",
        "    dx = math.sqrt(np.dot(x-xOld,x-xOld))\n",
        "    if dx < tol: return x,i,omega\n",
        "    # Calcula el factor de relajacion despues de k+p iteraciones\n",
        "    if i == k: dx1 = dx\n",
        "    if i == k + p:\n",
        "      dx2 = dx\n",
        "      omega = 2.0/(1.0 + math.sqrt(1.0 - (dx2/dx1)**(1.0/p)))\n",
        "  print('Gauss-Seidel no converge')\n",
        "\n",
        "#### Construccion de valores interpolados con la matriz del ejemplo.\n",
        "\n",
        "def iterEqs(x,omega):\n",
        "  n = len(x)\n",
        "  x[0] = omega*(x[1] - x[n-1])/4.0 + (1.0 - omega)*x[0]\n",
        "  for i in range(1,n-1):\n",
        "    x[i] = omega*(x[i-1] + x[i+1])/4.0 + (1.0 - omega)*x[i]\n",
        "  x[n-1] = omega*(1.0 - x[0] + x[n-2])/4.0 + (1.0 - omega)*x[n-1]\n",
        "  return x\n",
        "\n",
        "### El/La Usuaria da el numero de ecuaciones que tiene el SEL\n",
        "\n",
        "n = eval(input(\"Numero de ecuaciones ==> \")) \n",
        "\n",
        "### El valor de inicializacion del metodo iterativo es un vector de ceros\n",
        "\n",
        "x = np.zeros(n)\n",
        "\n",
        "### Implementacion del Metodo de Gauss-Seidel para el ejemplo\n",
        "\n",
        "x,numIter,omega = gaussSeidel(iterEqs,x)\n",
        "\n",
        "print(\"\\nNumero de iteraciones =\",numIter)\n",
        "print(\"\\nFactor de relajacion =\",omega)\n",
        "print(\"\\nLa solucion es:\\n\",x)"
      ],
      "execution_count": null,
      "outputs": [
        {
          "output_type": "stream",
          "text": [
            "Numero de ecuaciones ==> 20\n",
            "\n",
            "Numero de iteraciones = 17\n",
            "\n",
            "Factor de relajacion = 1.0976797558332922\n",
            "\n",
            "La solucion es:\n",
            " [-7.73502692e-02 -2.07259422e-02 -5.55349947e-03 -1.48805560e-03\n",
            " -3.98722685e-04 -1.06834865e-04 -2.86165330e-05 -7.63110391e-06\n",
            " -1.90779029e-06 -1.26437680e-11  1.90775820e-06  7.63105192e-06\n",
            "  2.86164512e-05  1.06834753e-04  3.98722562e-04  1.48805549e-03\n",
            "  5.55349941e-03  2.07259421e-02  7.73502692e-02  2.88675135e-01]\n"
          ],
          "name": "stdout"
        }
      ]
    },
    {
      "cell_type": "markdown",
      "metadata": {
        "id": "xGr6s3l2ulJP"
      },
      "source": [
        "# Interpolacion con el Metodo de Newton "
      ]
    },
    {
      "cell_type": "code",
      "metadata": {
        "id": "r32_kVvfvJYa"
      },
      "source": [
        "## modulo newtonPoly\n",
        "''' p = evalPoly(a,xData,x).\n",
        "Evalua el polinomio de Newton p(x). El vector de\n",
        "coeficientes {a} se calcula con coeffts.\n",
        "'''\n",
        "def evalPoly(a,xData,x):\n",
        "  n = len(xData) - 1 #grado del polinomio\n",
        "  p = a[n]\n",
        "  for k in range(1,n+1):\n",
        "    p = a[n-k] + (x -xData[n-k])*p\n",
        "  return p\n",
        "\n",
        "'''a = coeffts(xData,yData).\n",
        "Calcula los coeficientes del poliniomio de Newton.\n",
        "'''\n",
        "def coeffts(xData,yData):\n",
        "  m = len(xData) # numero de datos\n",
        "  a = yData.copy()\n",
        "  for k in range(1,m):\n",
        "    a[k:m] = (a[k:m] - a[k-1])/(xData[k:m] - xData[k-1])\n",
        "  return a"
      ],
      "execution_count": null,
      "outputs": []
    },
    {
      "cell_type": "code",
      "metadata": {
        "colab": {
          "base_uri": "https://localhost:8080/"
        },
        "id": "imQ4vxD8urBl",
        "outputId": "2f7296d2-1550-447d-8933-71e5ff0210ac"
      },
      "source": [
        "## modulo newtonPoly\n",
        "''' p = evalPoly(a,xData,x).\n",
        "Evalua el polinomio de Newton p(x). El vector de\n",
        "coeficientes {a} se calcula con coeffts.\n",
        "'''\n",
        "def evalPoly(a,xData,x):\n",
        "  n = len(xData) - 1 #grado del polinomio\n",
        "  p = a[n]\n",
        "  for k in range(1,n+1):\n",
        "    p = a[n-k] + (x -xData[n-k])*p\n",
        "  return p\n",
        "\n",
        "'''a = coeffts(xData,yData).\n",
        "Calcula los coeficientes del poliniomio de Newton.\n",
        "'''\n",
        "def coeffts(xData,yData):\n",
        "  m = len(xData) # numero de datos\n",
        "  a = yData.copy()\n",
        "  for k in range(1,m):\n",
        "    a[k:m] = (a[k:m] - a[k-1])/(xData[k:m] - xData[k-1])\n",
        "  return a\n",
        "\n",
        "\n",
        "#### Ejemplo\n",
        "import numpy as np\n",
        "import math\n",
        "xData = np.array([0.15,2.3,3.15,4.85,6.25,7.95])\n",
        "yData = np.array([4.79867,4.49013,4.2243,3.47313,2.66674,1.51909])\n",
        "a = coeffts(xData,yData)\n",
        "\n",
        "print('x     yInterp    yExact    Error(%)')\n",
        "print('-----------------------------------')\n",
        "for x in np.arange(0.0,8.1,0.5):\n",
        "  y = evalPoly(a,xData,x)\n",
        "  yExact = 4.8*math.cos(math.pi*x/20.0)\n",
        "  errorporcentual = (yExact - y)/yExact*100\n",
        "  print('{:3.1f} {:9.5f} {:9.5f} {:9.5f}'.format(x,y,yExact,errorporcentual))"
      ],
      "execution_count": null,
      "outputs": [
        {
          "output_type": "stream",
          "text": [
            "x     yInterp    yExact    Error(%)\n",
            "-----------------------------------\n",
            "0.0   4.80003   4.80000  -0.00052\n",
            "0.5   4.78518   4.78520   0.00052\n",
            "1.0   4.74088   4.74090   0.00057\n",
            "1.5   4.66736   4.66738   0.00032\n",
            "2.0   4.56507   4.56507   0.00010\n",
            "2.5   4.43462   4.43462   0.00002\n",
            "3.0   4.27683   4.27683   0.00006\n",
            "3.5   4.09267   4.09267   0.00016\n",
            "4.0   3.88327   3.88328   0.00023\n",
            "4.5   3.64994   3.64995   0.00021\n",
            "5.0   3.39411   3.39411   0.00010\n",
            "5.5   3.11735   3.11735  -0.00005\n",
            "6.0   2.82137   2.82137  -0.00013\n",
            "6.5   2.50799   2.50799  -0.00002\n",
            "7.0   2.17915   2.17915   0.00034\n",
            "7.5   1.83687   1.83688   0.00068\n",
            "8.0   1.48329   1.48328  -0.00027\n"
          ],
          "name": "stdout"
        }
      ]
    },
    {
      "cell_type": "markdown",
      "metadata": {
        "id": "tT_8hEbJlfG1"
      },
      "source": [
        "# Minimos cuadrados: ajuste polinomial"
      ]
    },
    {
      "cell_type": "code",
      "metadata": {
        "id": "x1EfwqsZljoT"
      },
      "source": [
        "## modulo polyFit\n",
        "''' c = polyFit(xData,yData,m).\n",
        "Regresa los coeficientes del polinomio\n",
        "p(x) = c[0] + c[1]x + c[2]xˆ2 +...+ c[m]xˆm\n",
        "que ajusta los datos dados en minimos cuadrados.\n",
        "'''\n",
        "import numpy as np\n",
        "\n",
        "def polyFit(xData,yData,m):\n",
        "  a = np.zeros((m+1,m+1))\n",
        "  b = np.zeros(m+1)\n",
        "  s = np.zeros(2*m+1)\n",
        "  for i in range(len(xData)):\n",
        "    temp = yData[i]\n",
        "    for j in range(m+1):\n",
        "      b[j] = b[j] + temp\n",
        "      temp = temp*xData[i]\n",
        "    temp = 1.0\n",
        "    for j in range(2*m+1):\n",
        "      s[j] = s[j] + temp\n",
        "      temp = temp*xData[i]\n",
        "  for i in range(m+1):\n",
        "    for j in range(m+1):\n",
        "      a[i,j] = s[i+j]\n",
        "  return gaussPivot(a,b)"
      ],
      "execution_count": null,
      "outputs": []
    },
    {
      "cell_type": "code",
      "metadata": {
        "id": "LJxCwfD_n_oX"
      },
      "source": [
        "## modulo stdDev\n",
        "''' sigma = stdDev(c,xData,yData).\n",
        "Calcula la desviacion estandar entre p(x)\n",
        "y los datos.\n",
        "'''\n",
        "import math\n",
        "\n",
        "def stdDev(c,xData,yData):\n",
        "  \n",
        "  def evalPoly(c,x):\n",
        "    m = len(c) - 1\n",
        "    p = c[m]\n",
        "    for j in range(m):\n",
        "      p = p*x + c[m-j-1]\n",
        "    return p\n",
        "    \n",
        "  n = len(xData) - 1\n",
        "  m = len(c) - 1\n",
        "  sigma = 0.0\n",
        "  for i in range(n+1):\n",
        "    p = evalPoly(c,xData[i])\n",
        "    sigma = sigma + (yData[i] - p)**2\n",
        "  sigma = math.sqrt(sigma/(n - m))\n",
        "  return sigma"
      ],
      "execution_count": null,
      "outputs": []
    },
    {
      "cell_type": "code",
      "metadata": {
        "id": "uLI6oiSWnLY2"
      },
      "source": [
        "## modulo plotPoly\n",
        "''' plotPoly(xData,yData,coeff,xlab='x',ylab='y')\n",
        "Grafica los datos y el polinomio de ajuste\n",
        "definido por sus coeficientes coeff = [a0, a1. ...]\n",
        "xlab, ylab son los rotulos de los ejes\n",
        "'''\n",
        "import numpy as np\n",
        "import matplotlib.pyplot as plt\n",
        "\n",
        "def plotPoly(xData,yData,coeff,xlab='x',ylab='y'):\n",
        "  m = len(coeff)\n",
        "  x1 = min(xData)\n",
        "  x2 = max(xData)\n",
        "  dx = (x2 - x1)/20.0\n",
        "  x = np.arange(x1,x2 + dx/10.0,dx)\n",
        "  y = np.zeros((len(x)))*1.0\n",
        "  for i in range(m):\n",
        "    y = y + coeff[i]*x**i\n",
        "  plt.plot(xData,yData,'o',x,y,'-')\n",
        "  plt.xlabel(xlab); plt.ylabel(ylab)\n",
        "  plt.grid (True)\n",
        "  plt.show()"
      ],
      "execution_count": null,
      "outputs": []
    },
    {
      "cell_type": "code",
      "metadata": {
        "colab": {
          "base_uri": "https://localhost:8080/",
          "height": 1000
        },
        "id": "uhhjqhc3qTJC",
        "outputId": "00f6ee0f-64b2-4fcf-97c8-0122b5fbcbc2"
      },
      "source": [
        "### Ejemplo\n",
        "\n",
        "#### Necesito varios modulos previos\n",
        "\n",
        "import numpy as np\n",
        "import sys\n",
        "\n",
        "## modulo error\n",
        "'''\n",
        "err(string). Imprime 'texto' y termina el programa.\n",
        "'''\n",
        "\n",
        "def err(string):\n",
        "  print(string)\n",
        "  input('Press return to exit')\n",
        "  sys.exit()\n",
        "\n",
        "\n",
        "## modulo swap\n",
        "''' \n",
        "swapRows(v,i,j). Intercambia renglones i y j de un arreglo [v].\n",
        "swapCols(v,i,j). Intercambia columnas i y j de un arreglo [v].\n",
        "'''\n",
        "\n",
        "def swapRows(v,i,j):\n",
        "  if len(v.shape) == 1:\n",
        "    v[i],v[j] = v[j],v[i]\n",
        "  else:\n",
        "    v[[i,j],:] = v[[j,i],:]\n",
        "\n",
        "def swapCols(v,i,j):\n",
        "  v[:,[i,j]] = v[:,[j,i]]\n",
        "\n",
        "\n",
        "## modulo gaussPivot\n",
        "''' x = gaussPivot(a,b,tol=1.0e-12).\n",
        "Resuelve [a]{x} = {b} con eliminacion de Gauss\n",
        "y pivoteo escalado\n",
        "'''\n",
        "\n",
        "def gaussPivot(a,b,tol=1.0e-12):\n",
        "  n = len(b)\n",
        "\n",
        "  # Construye los factores de escala\n",
        "  s = np.zeros(n)\n",
        "  for i in range(n):\n",
        "    s[i] = max(np.abs(a[i,:]))\n",
        "    \n",
        "\n",
        "  for k in range(0,n-1):\n",
        "    \n",
        "    # Si es necesario, intercambia renglones\n",
        "    p = np.argmax(np.abs(a[k:n,k])/s[k:n]) + k\n",
        "    if abs(a[p,k]) < tol: error.err('La matriz es singular')\n",
        "    if p != k:\n",
        "      swapRows(b,k,p)\n",
        "      swapRows(s,k,p)\n",
        "      swapRows(a,k,p)\n",
        "      \n",
        "    # Fase de eliminacion\n",
        "    for i in range(k+1,n):\n",
        "      if a[i,k] != 0.0:\n",
        "        lam = a[i,k]/a[k,k]\n",
        "        a[i,k+1:n] = a[i,k+1:n] - lam*a[k,k+1:n]\n",
        "        b[i] = b[i] - lam*b[k]\n",
        "  if abs(a[n-1,n-1]) < tol: error.err('La matriz es singular')\n",
        "\n",
        "  # Fase de sustitucion hacia atras\n",
        "  b[n-1] = b[n-1]/a[n-1,n-1]\n",
        "  for k in range(n-2,-1,-1):\n",
        "    b[k] = (b[k] - np.dot(a[k,k+1:n],b[k+1:n]))/a[k,k]\n",
        "  return b\n",
        "\n",
        "\n",
        "  ## modulo polyFit\n",
        "''' c = polyFit(xData,yData,m).\n",
        "Regresa los coeficientes del polinomio\n",
        "p(x) = c[0] + c[1]x + c[2]xˆ2 +...+ c[m]xˆm\n",
        "que ajusta los datos dados en minimos cuadrados.\n",
        "'''\n",
        "import numpy as np\n",
        "\n",
        "def polyFit(xData,yData,m):\n",
        "  a = np.zeros((m+1,m+1))\n",
        "  b = np.zeros(m+1)\n",
        "  s = np.zeros(2*m+1)\n",
        "  for i in range(len(xData)):\n",
        "    temp = yData[i]\n",
        "    for j in range(m+1):\n",
        "      b[j] = b[j] + temp\n",
        "      temp = temp*xData[i]\n",
        "    temp = 1.0\n",
        "    for j in range(2*m+1):\n",
        "      s[j] = s[j] + temp\n",
        "      temp = temp*xData[i]\n",
        "  for i in range(m+1):\n",
        "    for j in range(m+1):\n",
        "      a[i,j] = s[i+j]\n",
        "  return gaussPivot(a,b)\n",
        "\n",
        "  ## modulo stdDev\n",
        "''' sigma = stdDev(c,xData,yData).\n",
        "Calcula la desviacion estandar entre p(x)\n",
        "y los datos.\n",
        "'''\n",
        "import math\n",
        "\n",
        "def stdDev(c,xData,yData):\n",
        "  \n",
        "  def evalPoly(c,x):\n",
        "    m = len(c) - 1\n",
        "    p = c[m]\n",
        "    for j in range(m):\n",
        "      p = p*x + c[m-j-1]\n",
        "    return p\n",
        "    \n",
        "  n = len(xData) - 1\n",
        "  m = len(c) - 1\n",
        "  sigma = 0.0\n",
        "  for i in range(n+1):\n",
        "    p = evalPoly(c,xData[i])\n",
        "    sigma = sigma + (yData[i] - p)**2\n",
        "  sigma = math.sqrt(sigma/(n - m))\n",
        "  return sigma\n",
        "\n",
        "import matplotlib.pyplot as plt\n",
        "\n",
        "def plotPoly(xData,yData,coeff,xlab='x',ylab='y'):\n",
        "  m = len(coeff)\n",
        "  x1 = min(xData)\n",
        "  x2 = max(xData)\n",
        "  dx = (x2 - x1)/20.0\n",
        "  x = np.arange(x1,x2 + dx/10.0,dx)\n",
        "  y = np.zeros((len(x)))*1.0\n",
        "  for i in range(m):\n",
        "    y = y + coeff[i]*x**i\n",
        "  plt.plot(xData,yData,'o',x,y,'-')\n",
        "  plt.xlabel(xlab); plt.ylabel(ylab)\n",
        "  plt.grid (True)\n",
        "  plt.show()\n",
        "####################################\n",
        "\n",
        "xData = np.array([-0.04,0.93,1.95,2.90,3.83,5.0,5.98,7.05,8.21,9.08,10.09])\n",
        "yData = np.array([-8.66,-6.44,-4.36,-3.27,-0.88,0.87,3.31,4.63,6.19,7.4,8.85])\n",
        "\n",
        "while True:\n",
        "  try:\n",
        "    m = eval(input('\\nDegree of polynomial ==> '))\n",
        "    coeff = polyFit(xData,yData,m)\n",
        "    plotPoly(xData,yData,coeff,xlab='x',ylab='y')\n",
        "    print('Coefficients are:\\n',coeff)\n",
        "    print('Std. deviation =',stdDev(coeff,xData,yData))\n",
        "  except SyntaxError: break\n",
        "input('Finished. Press return to exit')"
      ],
      "execution_count": null,
      "outputs": [
        {
          "output_type": "stream",
          "text": [
            "\n",
            "Degree of polynomial ==> 1\n"
          ],
          "name": "stdout"
        },
        {
          "output_type": "display_data",
          "data": {
            "image/png": "[encoded data removed]",
            "text/plain": [
              "<Figure size 432x288 with 1 Axes>"
            ]
          },
          "metadata": {
            "tags": [],
            "needs_background": "light"
          }
        },
        {
          "output_type": "stream",
          "text": [
            "Coefficients are:\n",
            " [-7.94533287  1.72860425]\n",
            "Std. deviation = 0.5112788367370911\n",
            "\n",
            "Degree of polynomial ==> 2\n"
          ],
          "name": "stdout"
        },
        {
          "output_type": "display_data",
          "data": {
            "image/png": "[encoded data removed]",
            "text/plain": [
              "<Figure size 432x288 with 1 Axes>"
            ]
          },
          "metadata": {
            "tags": [],
            "needs_background": "light"
          }
        },
        {
          "output_type": "stream",
          "text": [
            "Coefficients are:\n",
            " [-8.57005662  2.15121691 -0.04197119]\n",
            "Std. deviation = 0.3109920728551074\n",
            "\n",
            "Degree of polynomial ==> 3\n"
          ],
          "name": "stdout"
        },
        {
          "output_type": "display_data",
          "data": {
            "image/png": "[encoded data removed]",
            "text/plain": [
              "<Figure size 432x288 with 1 Axes>"
            ]
          },
          "metadata": {
            "tags": [],
            "needs_background": "light"
          }
        },
        {
          "output_type": "stream",
          "text": [
            "Coefficients are:\n",
            " [-8.46603423e+00  1.98104441e+00  2.88447008e-03 -2.98524686e-03]\n",
            "Std. deviation = 0.31948179156753187\n",
            "\n",
            "Degree of polynomial ==> \n",
            "Finished. Press return to exit\n"
          ],
          "name": "stdout"
        },
        {
          "output_type": "execute_result",
          "data": {
            "application/vnd.google.colaboratory.intrinsic+json": {
              "type": "string"
            },
            "text/plain": [
              "''"
            ]
          },
          "metadata": {
            "tags": []
          },
          "execution_count": 10
        }
      ]
    },
    {
      "cell_type": "markdown",
      "metadata": {
        "id": "a1lDNgifVLAn"
      },
      "source": [
        "# Segunda Derivada con Diferencias Finitas"
      ]
    },
    {
      "cell_type": "code",
      "metadata": {
        "colab": {
          "base_uri": "https://localhost:8080/"
        },
        "id": "acV78hKrXYp8",
        "outputId": "31bc8c33-d883-460b-e0bf-a665f2121acf"
      },
      "source": [
        "\n",
        "import numpy as np\n",
        "import math\n",
        "\n",
        "\n",
        "def fs(x): return round(math.exp(-x),6)\n",
        "def fo(x): return round(math.exp(-x),8)\n",
        "\n",
        "hData = np.array([0.64,0.32,0.16,0.08,0.04,0.02,0.01,0.005,0.0025,0.00125])\n",
        "m = len(hData) # numero de datos\n",
        "\n",
        "print('h          6-digitos    Error(%)   8-digitos    Error(%)')\n",
        "print('------------------------------------------------------------')\n",
        "for k in range(0,m):\n",
        "  xp= 1 + hData[k]\n",
        "  xm= 1 - hData[k]\n",
        "  x=1\n",
        "  fsdf = (fs(xp)- 2*fs(x) + fs(xm))/hData[k]**2\n",
        "  fodf = (fo(xp)- 2*fo(x) + fo(xm))/hData[k]**2\n",
        "  fexact = math.exp(-1.0)\n",
        "  errorporcentuals = (fsdf-fexact)/fexact*100\n",
        "  errorporcentualo = (fodf-fexact)/fexact*100\n",
        "  #print(hData[k],format(fsdf,'6.6f'),format(errorporcentuals,'2.2f'),format(fodf,'8.8f'),format(errorporcentualo,'2.2f'))\n",
        "  print('{:5.5f}     {:6.6f}     {:2.2f}     {:8.8f}     {:2.2f}'.format(hData[k],fsdf,errorporcentuals,fodf,errorporcentualo))\n"
      ],
      "execution_count": null,
      "outputs": [
        {
          "output_type": "stream",
          "text": [
            "h          6-digitos    Error(%)   8-digitos    Error(%)\n",
            "------------------------------------------------------------\n",
            "0.64000     0.380610     3.46     0.38060911     3.46\n",
            "0.32000     0.371035     0.86     0.37102939     0.86\n",
            "0.16000     0.368711     0.23     0.36866484     0.21\n",
            "0.08000     0.368281     0.11     0.36807656     0.05\n",
            "0.04000     0.368750     0.24     0.36793125     0.01\n",
            "0.02000     0.370000     0.58     0.36790000     0.01\n",
            "0.01000     0.380000     3.29     0.36790000     0.01\n",
            "0.00500     0.400000     8.73     0.36760000     -0.08\n",
            "0.00250     0.480000     30.48     0.36800000     0.03\n",
            "0.00125     1.280000     247.94     0.37120000     0.90\n"
          ],
          "name": "stdout"
        }
      ]
    },
    {
      "cell_type": "markdown",
      "metadata": {
        "id": "Vkr50H2CFuM2"
      },
      "source": [
        "# Regla Trapezoidal Recursiva"
      ]
    },
    {
      "cell_type": "code",
      "metadata": {
        "colab": {
          "base_uri": "https://localhost:8080/"
        },
        "id": "wQ25RrK1F0rl",
        "outputId": "31779769-71d7-4eac-b7a0-7dbec6973cc4"
      },
      "source": [
        "## modulo regla trapezoidal recursiva\n",
        "'''Inew = trapecio_recursiva(f,a,b,Iold,k).\n",
        "Iold = Integral de f(x) de x = a hasta b calculada\n",
        "con la regla trapezoidal recursiva con 2ˆ(k-1) paneles.\n",
        "Inew = la misma integral calculada con 2ˆk paneles.\n",
        "'''\n",
        "def trapecio_recursiva(f,a,b,Iold,k):\n",
        "  if k == 1: Inew = (f(a) + f(b))*(b - a)/2.0\n",
        "  else:\n",
        "    n = 2**(k -2 ) # numero de nuevos puntos\n",
        "    h = (b - a)/n # espaciamiento de nuevos puntos\n",
        "    x = a + h/2.0\n",
        "    sum = 0.0\n",
        "    for i in range(n):\n",
        "      sum = sum + f(x)\n",
        "      x = x + h\n",
        "      Inew = (Iold + h*sum)/2.0\n",
        "  return Inew\n",
        "\n",
        "import math\n",
        "def f(x): return math.sqrt(x)*math.cos(x) \n",
        "Iold = 0.0\n",
        "for k in range(1,21):\n",
        "  Inew = trapecio_recursiva(f,0.0,math.pi,Iold,k)\n",
        "  if (k > 1) and (abs(Inew - Iold)) < 1.0e-6: break\n",
        "  Iold = Inew\n",
        "\n",
        "print('Integral =',Inew)\n",
        "print('nPanels =',2**(k-1))\n",
        "\n",
        "def g(x): return 2*x**2*math.cos(x**2)\n",
        "Iold = 0.0\n",
        "for k in range(1,21):\n",
        "  Inew = trapecio_recursiva(g,0.0,math.sqrt(math.pi),Iold,k)\n",
        "  if (k > 1) and (abs(Inew - Iold)) < 1.0e-6: break\n",
        "  Iold = Inew\n",
        "\n",
        "print('Integralnueva =',Inew)\n",
        "print('nPanelsnuevos =',2**(k-1))\n",
        "\n",
        "\n"
      ],
      "execution_count": null,
      "outputs": [
        {
          "output_type": "stream",
          "text": [
            "Integral = -0.8948316648532865\n",
            "nPanels = 32768\n",
            "Integralnueva = -0.8948315801170068\n",
            "nPanelsnuevos = 4096\n"
          ],
          "name": "stdout"
        }
      ]
    },
    {
      "cell_type": "markdown",
      "metadata": {
        "id": "Xy2V-PgUzRBP"
      },
      "source": [
        "# Cuadratura de Romberg (regla Trapezoidal + extrapolacion de Richardson)"
      ]
    },
    {
      "cell_type": "code",
      "metadata": {
        "id": "lj9bEvnPzb0U"
      },
      "source": [
        "## modulo regla trapezoidal recursiva\n",
        "'''Inew = trapecio_recursiva(f,a,b,Iold,k).\n",
        "Iold = Integral de f(x) de x = a hasta b calculada\n",
        "con la regla trapezoidal recursiva con 2ˆ(k-1) paneles.\n",
        "Inew = la misma integral calculada con 2ˆk paneles.\n",
        "'''\n",
        "def trapecio_recursiva(f,a,b,Iold,k):\n",
        "  if k == 1: Inew = (f(a) + f(b))*(b - a)/2.0\n",
        "  else:\n",
        "    n = 2**(k -2 ) # numero de nuevos puntos\n",
        "    h = (b - a)/n # espaciamiento de nuevos puntos\n",
        "    x = a + h/2.0\n",
        "    sum = 0.0\n",
        "    for i in range(n):\n",
        "      sum = sum + f(x)\n",
        "      x = x + h\n",
        "      Inew = (Iold + h*sum)/2.0\n",
        "  return Inew\n",
        "\n",
        "## modulo romberg\n",
        "'''I,nPanels = romberg(f,a,b,tol=1.0e-6).\n",
        "Integracion de Romberg para f(x) en el rango x = a-b.\n",
        "Regresa la integral y el numero de paneles usados.\n",
        "Utiliza la regla trapezoidal recursiva.\n",
        "'''\n",
        "\n",
        "import numpy as np\n",
        "\n",
        "def romberg(f,a,b,tol=1.0e-6):\n",
        "\n",
        "  def richardson(r,k):\n",
        "    for j in range(k-1,0,-1):\n",
        "      const = 4.0**(k-j)\n",
        "      r[j] = (const*r[j+1] - r[j])/(const - 1.0)\n",
        "    return r\n",
        "    \n",
        "  r = np.zeros(21)\n",
        "  r[1] = trapecio_recursiva(f,a,b,0.0,1)\n",
        "  r_old = r[1]\n",
        "  for k in range(2,21):\n",
        "    r[k] = trapecio_recursiva(f,a,b,r[k-1],k)\n",
        "    r = richardson(r,k)\n",
        "    if abs(r[1]-r_old) < tol*max(abs(r[1]),1.0):\n",
        "      return r[1],2**(k-1)\n",
        "    r_old = r[1]\n",
        "  print(\"La cuadratura de Romberg no converge\")"
      ],
      "execution_count": null,
      "outputs": []
    },
    {
      "cell_type": "markdown",
      "metadata": {
        "id": "LuwWYx-K0yLh"
      },
      "source": [
        "Ejemplo que ya habiamos resuelto con la regla trapezoidal recursiva pero que ahora podremos comparar con la Cuadratura de Romberg"
      ]
    },
    {
      "cell_type": "code",
      "metadata": {
        "colab": {
          "base_uri": "https://localhost:8080/"
        },
        "id": "X-xZBjpu05a1",
        "outputId": "9483b47e-16e2-4719-dbfe-95c2a1de658c"
      },
      "source": [
        "import math\n",
        "def g(x): return 2*x**2*math.cos(x**2)\n",
        "\n",
        "I,n = romberg(g,0,math.sqrt(math.pi))\n",
        "print('Integral =',I)\n",
        "print('numEvals =',n)"
      ],
      "execution_count": null,
      "outputs": [
        {
          "output_type": "stream",
          "text": [
            "Integral = -0.8948314695044126\n",
            "numEvals = 64\n"
          ],
          "name": "stdout"
        }
      ]
    },
    {
      "cell_type": "markdown",
      "metadata": {
        "id": "Hd16Apwg1WOF"
      },
      "source": [
        "Pasamos de necesitar 4096 paneles a solo 64 paneles!!!"
      ]
    },
    {
      "cell_type": "markdown",
      "metadata": {
        "id": "uEkVTAdl23Uy"
      },
      "source": [
        "# Cuadratura Gauss - Legendre"
      ]
    },
    {
      "cell_type": "code",
      "metadata": {
        "id": "tYV-L1ZT20pr"
      },
      "source": [
        ""
      ],
      "execution_count": null,
      "outputs": []
    },
    {
      "cell_type": "markdown",
      "metadata": {
        "id": "Y7LQ3rOcTMwL"
      },
      "source": [
        "# Metodo de Integracion de Euler"
      ]
    },
    {
      "cell_type": "code",
      "metadata": {
        "colab": {
          "base_uri": "https://localhost:8080/",
          "height": 279
        },
        "id": "S7MQesgUTQry",
        "outputId": "0b0d550a-d73a-4b34-9fb5-f1440905628e"
      },
      "source": [
        "import numpy as np\n",
        "\n",
        "######### Modulo de integracion\n",
        "\n",
        "def eulerint(F,x,y,xStop,h):\n",
        "  X = []\n",
        "  Y = []\n",
        "  X.append(x)\n",
        "  Y.append(y)\n",
        "  while x < xStop:\n",
        "    h = min(h,xStop - x)\n",
        "    y = y + h*F(x,y)\n",
        "    x = x + h\n",
        "    X.append(x)\n",
        "    Y.append(y)\n",
        "  return np.array(X),np.array(Y)\n",
        "\n",
        "######### Modulo de impresion\n",
        "\n",
        "def imprimeSol(X,Y,frecuencia):\n",
        "  \n",
        "  def imprimeCabeza(n):\n",
        "    print('\\n x ',end=' ')\n",
        "    for i in range (n):\n",
        "      print('y[',i,'] ',end=' ')\n",
        "      print()\n",
        "      \n",
        "  def imprimeLinea(x,y,n):\n",
        "    print('{:13.4e}'.format(x),end=' ')\n",
        "    for i in range (n):\n",
        "      print('{:13.4e}'.format(y[i]),end=' ')\n",
        "      print()\n",
        "      \n",
        "  m = len(Y)\n",
        "  try: n = len(Y[0])\n",
        "  except TypeError: n = 1\n",
        "  if frecuencia == 0: frecuencia = m\n",
        "  imprimeCabeza(n)\n",
        "  for i in range(0,m,frecuencia):\n",
        "    imprimeLinea(X[i],Y[i],n)\n",
        "  if i != m - 1: \n",
        "    imprimeLinea(X[m - 1],Y[m - 1],n)\n",
        "\n",
        "\n",
        "################################## Ejemplo\n",
        "\n",
        "import matplotlib.pyplot as plt\n",
        "\n",
        "def F(x,y):\n",
        "  F = np.zeros(2)\n",
        "  F[0] = y[1]\n",
        "  F[1] = -0.1*y[1] - x\n",
        "  return F\n",
        "\n",
        "x = 0.0 # Inicio de la integracion\n",
        "xStop = 2.0 # Fin de la integracion\n",
        "y = np.array([0.0, 1.0]) # Condicion inical para {y}\n",
        "h = 0.05 # Tamaño del paso\n",
        "X,Y = eulerint(F,x,y,xStop,h) #llamada de integrador\n",
        "yExact = 100.0*X - 5.0*X**2 + 990.0*(np.exp(-0.1*X) - 1.0) #sol exacta para comparar\n",
        "\n",
        "#grafica para mostrar comparativo entre sol. numerica y exacta\n",
        "plt.plot(X,Y[:,0],'o',X,yExact,'-')\n",
        "plt.grid(True)\n",
        "plt.xlabel('x'); plt.ylabel('y')\n",
        "plt.legend(('Sol. Numerica','Sol. Exacta'),loc=0)\n",
        "plt.show()\n"
      ],
      "execution_count": null,
      "outputs": [
        {
          "output_type": "display_data",
          "data": {
            "image/png": "[encoded data removed]",
            "text/plain": [
              "<Figure size 432x288 with 1 Axes>"
            ]
          },
          "metadata": {
            "tags": [],
            "needs_background": "light"
          }
        }
      ]
    },
    {
      "cell_type": "markdown",
      "metadata": {
        "id": "ceSts162XuwO"
      },
      "source": [
        "# Metodo de Jacobi para problemas de eigenvalores (matrices simetricas)"
      ]
    },
    {
      "cell_type": "code",
      "metadata": {
        "colab": {
          "base_uri": "https://localhost:8080/"
        },
        "id": "PEyL2yjbX0ic",
        "outputId": "67b0f1e9-7cc9-49d4-a86f-9d16ed02ed1a"
      },
      "source": [
        "## Modulo jacobi\n",
        "'''lam,x = jacobi(a,tol = 1.0e-8).\n",
        "En este modulo se resuelve el problema de eigenvalores [a]{x} = lam{x}\n",
        "usando el metodo de Jacobi. La funcion regresa los eigenvalores en el\n",
        "vector {lam} y los eigenvectores como columnas de la matriz [x].\n",
        "'''\n",
        "\n",
        "import numpy as np\n",
        "import math\n",
        "\n",
        "def jacobi(a,tol = 1.0e-8): #el usuario da la matriz a[i,j] y la tolerancia\n",
        "  \n",
        "  def threshold(a): #funcion que calcula los umbrales\n",
        "    sum = 0.0\n",
        "    for i in range(n-1):\n",
        "      for j in range (i+1,n):\n",
        "        sum = sum + abs(a[i,j])\n",
        "    return 0.5*sum/n/(n-1)\n",
        "    \n",
        "  def rotate(a,p,k,l): # funcion que rota hasta lograr a[k,l]=0\n",
        "    aDiff = a[l,l] - a[k,k]\n",
        "    if abs(a[k,l]) < abs(aDiff)*1.0e-36: t = a[k,l]/aDiff\n",
        "    else:\n",
        "      phi = aDiff/(2.0*a[k,l])\n",
        "      t = 1.0/(abs(phi) + math.sqrt(phi**2 + 1.0))\n",
        "      if phi < 0.0: t = -t\n",
        "    c = 1.0/math.sqrt(t**2 + 1.0); s = t*c\n",
        "    tau = s/(1.0 + c)\n",
        "    temp = a[k,l]\n",
        "    a[k,l] = 0.0\n",
        "    a[k,k] = a[k,k] - t*temp\n",
        "    a[l,l] = a[l,l] + t*temp\n",
        "    for i in range(k): # Caso i < k\n",
        "        temp = a[i,k]\n",
        "        a[i,k] = temp - s*(a[i,l] + tau*temp)\n",
        "        a[i,l] = a[i,l] + s*(temp - tau*a[i,l])\n",
        "    for i in range(k+1,l): # Caso k < i < l\n",
        "        temp = a[k,i]\n",
        "        a[k,i] = temp - s*(a[i,l] + tau*a[k,i])\n",
        "        a[i,l] = a[i,l] + s*(temp - tau*a[i,l])\n",
        "    for i in range(l+1,n): # Caso i > l\n",
        "        temp = a[k,i]\n",
        "        a[k,i] = temp - s*(a[l,i] + tau*temp)\n",
        "        a[l,i] = a[l,i] + s*(temp - tau*a[l,i])\n",
        "    for i in range(n): # Actualiza la matriz de transformacion\n",
        "        temp = p[i,k]\n",
        "        p[i,k] = temp - s*(p[i,l] + tau*p[i,k])\n",
        "        p[i,l] = p[i,l] + s*(temp - tau*p[i,l])\n",
        "                \n",
        "  n = len(a)\n",
        "  p = np.identity(n,float)\n",
        "  for k in range(20):\n",
        "    mu = threshold(a) # Calcula un nuevo umbral\n",
        "    for i in range(n-1): # Barrido de la matriz\n",
        "      for j in range(i+1,n):\n",
        "          if abs(a[i,j]) >= mu: #criterio de cero\n",
        "            rotate(a,p,i,j) # rotacion iterativa por toda la matriz\n",
        "    if mu <= tol: return np.diagonal(a),p #da los resultados con criterio tol\n",
        "  print('El metodod de Jacobi no converge')      \n",
        "\n",
        "## modulo swap - ya lo habiamos usado!\n",
        "\n",
        "def swapRows(v,i,j):\n",
        "  if len(v.shape) == 1:\n",
        "    v[i],v[j] = v[j],v[i]\n",
        "  else:\n",
        "    v[[i,j],:] = v[[j,i],:]\n",
        "\n",
        "def swapCols(v,i,j):\n",
        "  v[:,[i,j]] = v[:,[j,i]]\n",
        "\n",
        "\n",
        "## modulo ordenJacobi\n",
        "'''ordenJacobi(lam,x).\n",
        "Arregla los eigenvalores {lam} y eigenvectores [x]\n",
        "en orden ascendente de eigenvalores.\n",
        "'''\n",
        "\n",
        "def sortJacobi(lam,x):\n",
        "  n = len(lam)\n",
        "  for i in range(n-1):\n",
        "    index = i\n",
        "    val = lam[i]\n",
        "    for j in range(i+1,n):\n",
        "      if lam[j] < val:\n",
        "        index = j\n",
        "        val = lam[j]\n",
        "      if index != i:\n",
        "        swapRows(lam,i,index)\n",
        "        swapCols(x,i,index)\n",
        "\n",
        "\n",
        "##### Ejemplo\n",
        "\n",
        "import numpy as np\n",
        "import math\n",
        "\n",
        "A = np.array([[ 4.0, -2.0, 1.0, -1.0 ], [ -2.0, 4.0, -2.0, 1.0 ], [ 1.0, -2.0, 4.0, -2.0 ], [ -1.0, 1.0, -2.0, 4.0 ]])\n",
        "lam,X = jacobi(A)\n",
        "print('Eigenvalores de A:\\n',lam)\n",
        "print('Eigenvectores de A:\\n',X)\n",
        "#valor=sortJacobi(lam,X)\n",
        "#print('Eigenvalores ordenados de A:\\n',valor)"
      ],
      "execution_count": null,
      "outputs": [
        {
          "output_type": "stream",
          "text": [
            "Eigenvalores de A:\n",
            " [8.54138127 1.38196601 2.45861873 3.61803399]\n",
            "Eigenvectores de A:\n",
            " [[ 0.45705607  0.37174803 -0.5395366   0.60150095]\n",
            " [-0.5395366   0.60150096 -0.45705607 -0.37174803]\n",
            " [ 0.5395366   0.60150096  0.45705607 -0.37174803]\n",
            " [-0.45705607  0.37174803  0.5395366   0.60150096]]\n"
          ],
          "name": "stdout"
        }
      ]
    }
  ]
}